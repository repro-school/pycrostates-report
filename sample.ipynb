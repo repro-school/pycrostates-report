{
 "cells": [
  {
   "cell_type": "code",
   "execution_count": null,
   "metadata": {},
   "outputs": [],
   "source": [
    "import numpy as np\n",
    "from mne.io import read_raw_eeglab\n",
    "\n",
    "from pycrostates.cluster import ModKMeans\n",
    "from pycrostates.datasets import lemon\n",
    "\n",
    "\n",
    "raw_fname = lemon.data_path(subject_id=\"010017\", condition=\"EO\")\n",
    "raw = read_raw_eeglab(raw_fname, preload=True)\n",
    "raw.crop(0, 180)\n",
    "raw.pick(\"eeg\")\n",
    "raw.set_eeg_reference(\"average\")"
   ]
  },
  {
   "cell_type": "code",
   "execution_count": null,
   "metadata": {},
   "outputs": [],
   "source": [
    "from pycrostates.preprocessing import extract_gfp_peaks\n",
    "\n",
    "cluster_numbers = range(2, 9)\n",
    "scores = {\n",
    "    \"Silhouette\": np.zeros(len(cluster_numbers)),\n",
    "    \"Calinski-Harabasaz\": np.zeros(len(cluster_numbers)),\n",
    "    \"Dunn\": np.zeros(len(cluster_numbers)),\n",
    "    \"Davies-Bouldin\": np.zeros(len(cluster_numbers)),\n",
    "}\n",
    "gfp_peaks = extract_gfp_peaks(raw)\n",
    "\n",
    "ModK_list = []\n",
    "for k, n_clusters in enumerate(cluster_numbers):\n",
    "    # fit K-means algorithm with a set number of cluster centers\n",
    "    ModK = ModKMeans(n_clusters=n_clusters, random_state=42)\n",
    "    ModK.fit(gfp_peaks, n_jobs=4)\n",
    "    ModK_list.append(ModK)\n"
   ]
  }
 ],
 "metadata": {
  "language_info": {
   "name": "python"
  },
  "orig_nbformat": 4
 },
 "nbformat": 4,
 "nbformat_minor": 2
}
