{
 "cells": [
  {
   "cell_type": "markdown",
   "id": "6fd1c6e6",
   "metadata": {},
   "source": [
    "Install requirements:\n",
    "```\n",
    "pip install pycrostates mne_bids pybv \n",
    "```"
   ]
  },
  {
   "cell_type": "code",
   "execution_count": 10,
   "id": "deca7c23",
   "metadata": {},
   "outputs": [
    {
     "name": "stdout",
     "output_type": "stream",
     "text": [
      "Reading C:\\Users\\victor.ferat\\pycrostates_data\\PREPROCESSED_LEMON\\sub-010020_EO.fdt\n",
      "Reading 0 ... 104402  =      0.000 ...   417.608 secs...\n",
      "Creating RawArray with float64 data, n_channels=61, n_times=104403\n",
      "    Range : 0 ... 104402 =      0.000 ...   417.608 secs\n",
      "Ready.\n",
      "Location for this channel is unknown; consider calling set_montage() again if needed.\n",
      "Interpolating bad channels\n",
      "    Automatic origin fit: head of radius 95.8 mm\n",
      "Computing interpolation matrix from 59 sensor positions\n"
     ]
    },
    {
     "name": "stderr",
     "output_type": "stream",
     "text": [
      "C:\\Users\\victor.ferat\\AppData\\Local\\Temp\\ipykernel_500\\481121462.py:12: RuntimeWarning: Limited 1 annotation(s) that were expanding outside the data range.\n",
      "  raw = read_raw_eeglab(raw_fname, preload=True)\n",
      "C:\\Users\\victor.ferat\\AppData\\Local\\Temp\\ipykernel_500\\481121462.py:12: RuntimeWarning: The data contains 'boundary' events, indicating data discontinuities. Be cautious of filtering and epoching around these events.\n",
      "  raw = read_raw_eeglab(raw_fname, preload=True)\n"
     ]
    },
    {
     "name": "stdout",
     "output_type": "stream",
     "text": [
      "Interpolating 2 sensors\n",
      "EEG channel type selected for re-referencing\n",
      "Applying average reference.\n",
      "Applying a custom ('EEG',) reference.\n",
      "Writing 'bidsdataset\\participants.tsv'...\n",
      "Writing 'bidsdataset\\participants.json'...\n",
      "Writing 'bidsdataset/sub-010020/ses-01/eeg/sub-010020_ses-01_space-CapTrak_electrodes.tsv'...\n",
      "Writing 'bidsdataset/sub-010020/ses-01/eeg/sub-010020_ses-01_space-CapTrak_coordsystem.json'...\n",
      "Writing 'bidsdataset\\dataset_description.json'...\n",
      "Writing 'bidsdataset\\sub-010020\\ses-01\\eeg\\sub-010020_ses-01_task-EO_eeg.json'...\n",
      "Found no extension for raw file, assuming \"BTi\" format and appending extension .pdf\n",
      "Writing 'bidsdataset\\sub-010020\\ses-01\\eeg\\sub-010020_ses-01_task-EO_channels.tsv'...\n",
      "Copying data files to sub-010020_ses-01_task-EO_eeg.vhdr\n",
      "Writing 'bidsdataset\\sub-010020\\ses-01\\sub-010020_ses-01_scans.tsv'...\n",
      "Wrote bidsdataset\\sub-010020\\ses-01\\sub-010020_ses-01_scans.tsv entry with eeg\\sub-010020_ses-01_task-EO_eeg.vhdr.\n"
     ]
    },
    {
     "name": "stderr",
     "output_type": "stream",
     "text": [
      "C:\\Users\\victor.ferat\\AppData\\Local\\Temp\\ipykernel_500\\481121462.py:19: RuntimeWarning: No events found or provided. Please add annotations to the raw data, or provide the events and event_id parameters. For resting state data, BIDS recommends naming the task using labels beginning with \"rest\".\n",
      "  write_raw_bids(raw, bids_path=bids_path, allow_preload=True, format=\"BrainVision\", overwrite=True)\n",
      "C:\\Users\\victor.ferat\\AppData\\Local\\Temp\\ipykernel_500\\481121462.py:19: RuntimeWarning: Converting data files to BrainVision format\n",
      "  write_raw_bids(raw, bids_path=bids_path, allow_preload=True, format=\"BrainVision\", overwrite=True)\n",
      "C:\\Users\\victor.ferat\\AppData\\Local\\Temp\\ipykernel_500\\481121462.py:19: RuntimeWarning: Encountered data in \"double\" format. Converting to float32.\n",
      "  write_raw_bids(raw, bids_path=bids_path, allow_preload=True, format=\"BrainVision\", overwrite=True)\n",
      "Downloading file 'sub-010021_EO.set' from 'https://ftp.gwdg.de/pub/misc/MPI-Leipzig_Mind-Brain-Body-LEMON/EEG_MPILMBB_LEMON/EEG_Preprocessed_BIDS_ID/EEG_Preprocessed/sub-010021_EO.set' to 'C:\\Users\\victor.ferat\\pycrostates_data\\PREPROCESSED_LEMON'.\n",
      "Downloading file 'sub-010021_EO.fdt' from 'https://ftp.gwdg.de/pub/misc/MPI-Leipzig_Mind-Brain-Body-LEMON/EEG_MPILMBB_LEMON/EEG_Preprocessed_BIDS_ID/EEG_Preprocessed/sub-010021_EO.fdt' to 'C:\\Users\\victor.ferat\\pycrostates_data\\PREPROCESSED_LEMON'.\n"
     ]
    },
    {
     "name": "stdout",
     "output_type": "stream",
     "text": [
      "Reading C:\\Users\\victor.ferat\\pycrostates_data\\PREPROCESSED_LEMON\\sub-010021_EO.fdt\n",
      "Reading 0 ... 114834  =      0.000 ...   459.336 secs...\n",
      "EEG channel type selected for re-referencing\n",
      "Applying average reference.\n",
      "Applying a custom ('EEG',) reference.\n"
     ]
    },
    {
     "name": "stderr",
     "output_type": "stream",
     "text": [
      "C:\\Users\\victor.ferat\\AppData\\Local\\Temp\\ipykernel_500\\481121462.py:12: RuntimeWarning: Limited 1 annotation(s) that were expanding outside the data range.\n",
      "  raw = read_raw_eeglab(raw_fname, preload=True)\n",
      "C:\\Users\\victor.ferat\\AppData\\Local\\Temp\\ipykernel_500\\481121462.py:12: RuntimeWarning: The data contains 'boundary' events, indicating data discontinuities. Be cautious of filtering and epoching around these events.\n",
      "  raw = read_raw_eeglab(raw_fname, preload=True)\n",
      "C:\\Users\\victor.ferat\\AppData\\Local\\miniconda3\\envs\\report\\lib\\site-packages\\pycrostates\\datasets\\lemon\\lemon.py:135: RuntimeWarning: The locations of multiple reference channels are ignored.\n",
      "  raw.add_reference_channels(\"FCz\")\n",
      "C:\\Users\\victor.ferat\\AppData\\Local\\miniconda3\\envs\\report\\lib\\site-packages\\pycrostates\\datasets\\lemon\\lemon.py:138: RuntimeWarning: No bad channels to interpolate. Doing nothing...\n",
      "  raw.interpolate_bads()\n"
     ]
    },
    {
     "name": "stdout",
     "output_type": "stream",
     "text": [
      "Writing 'bidsdataset\\participants.tsv'...\n",
      "Writing 'bidsdataset\\participants.json'...\n",
      "Writing 'bidsdataset/sub-010021/ses-01/eeg/sub-010021_ses-01_space-CapTrak_electrodes.tsv'...\n",
      "Writing 'bidsdataset/sub-010021/ses-01/eeg/sub-010021_ses-01_space-CapTrak_coordsystem.json'...\n",
      "The provided raw data contains annotations, but you did not pass an \"event_id\" mapping from annotation descriptions to event codes. We will generate arbitrary event codes. To specify custom event codes, please pass \"event_id\".\n",
      "Used Annotations descriptions: ['3', '32766', '5']\n",
      "Writing 'bidsdataset\\sub-010021\\ses-01\\eeg\\sub-010021_ses-01_task-EO_events.tsv'...\n",
      "Writing 'bidsdataset\\dataset_description.json'...\n",
      "Writing 'bidsdataset\\sub-010021\\ses-01\\eeg\\sub-010021_ses-01_task-EO_eeg.json'...\n",
      "Writing 'bidsdataset\\sub-010021\\ses-01\\eeg\\sub-010021_ses-01_task-EO_channels.tsv'...\n",
      "Copying data files to sub-010021_ses-01_task-EO_eeg.vhdr\n",
      "Writing 'bidsdataset\\sub-010021\\ses-01\\sub-010021_ses-01_scans.tsv'...\n",
      "Wrote bidsdataset\\sub-010021\\ses-01\\sub-010021_ses-01_scans.tsv entry with eeg\\sub-010021_ses-01_task-EO_eeg.vhdr.\n"
     ]
    },
    {
     "name": "stderr",
     "output_type": "stream",
     "text": [
      "C:\\Users\\victor.ferat\\AppData\\Local\\Temp\\ipykernel_500\\481121462.py:19: RuntimeWarning: Converting data files to BrainVision format\n",
      "  write_raw_bids(raw, bids_path=bids_path, allow_preload=True, format=\"BrainVision\", overwrite=True)\n",
      "C:\\Users\\victor.ferat\\AppData\\Local\\Temp\\ipykernel_500\\481121462.py:19: RuntimeWarning: Encountered data in \"double\" format. Converting to float32.\n",
      "  write_raw_bids(raw, bids_path=bids_path, allow_preload=True, format=\"BrainVision\", overwrite=True)\n",
      "Downloading file 'sub-010022_EO.set' from 'https://ftp.gwdg.de/pub/misc/MPI-Leipzig_Mind-Brain-Body-LEMON/EEG_MPILMBB_LEMON/EEG_Preprocessed_BIDS_ID/EEG_Preprocessed/sub-010022_EO.set' to 'C:\\Users\\victor.ferat\\pycrostates_data\\PREPROCESSED_LEMON'.\n",
      "Downloading file 'sub-010022_EO.fdt' from 'https://ftp.gwdg.de/pub/misc/MPI-Leipzig_Mind-Brain-Body-LEMON/EEG_MPILMBB_LEMON/EEG_Preprocessed_BIDS_ID/EEG_Preprocessed/sub-010022_EO.fdt' to 'C:\\Users\\victor.ferat\\pycrostates_data\\PREPROCESSED_LEMON'.\n"
     ]
    },
    {
     "name": "stdout",
     "output_type": "stream",
     "text": [
      "Reading C:\\Users\\victor.ferat\\pycrostates_data\\PREPROCESSED_LEMON\\sub-010022_EO.fdt\n",
      "Reading 0 ... 118241  =      0.000 ...   472.964 secs...\n",
      "EEG channel type selected for re-referencing\n",
      "Applying average reference.\n",
      "Applying a custom ('EEG',) reference.\n"
     ]
    },
    {
     "name": "stderr",
     "output_type": "stream",
     "text": [
      "C:\\Users\\victor.ferat\\AppData\\Local\\Temp\\ipykernel_500\\481121462.py:12: RuntimeWarning: Limited 1 annotation(s) that were expanding outside the data range.\n",
      "  raw = read_raw_eeglab(raw_fname, preload=True)\n",
      "C:\\Users\\victor.ferat\\AppData\\Local\\Temp\\ipykernel_500\\481121462.py:12: RuntimeWarning: The data contains 'boundary' events, indicating data discontinuities. Be cautious of filtering and epoching around these events.\n",
      "  raw = read_raw_eeglab(raw_fname, preload=True)\n",
      "C:\\Users\\victor.ferat\\AppData\\Local\\miniconda3\\envs\\report\\lib\\site-packages\\pycrostates\\datasets\\lemon\\lemon.py:135: RuntimeWarning: The locations of multiple reference channels are ignored.\n",
      "  raw.add_reference_channels(\"FCz\")\n",
      "C:\\Users\\victor.ferat\\AppData\\Local\\miniconda3\\envs\\report\\lib\\site-packages\\pycrostates\\datasets\\lemon\\lemon.py:138: RuntimeWarning: No bad channels to interpolate. Doing nothing...\n",
      "  raw.interpolate_bads()\n"
     ]
    },
    {
     "name": "stdout",
     "output_type": "stream",
     "text": [
      "Writing 'bidsdataset\\participants.tsv'...\n",
      "Writing 'bidsdataset\\participants.json'...\n",
      "Writing 'bidsdataset/sub-010022/ses-01/eeg/sub-010022_ses-01_space-CapTrak_electrodes.tsv'...\n",
      "Writing 'bidsdataset/sub-010022/ses-01/eeg/sub-010022_ses-01_space-CapTrak_coordsystem.json'...\n",
      "The provided raw data contains annotations, but you did not pass an \"event_id\" mapping from annotation descriptions to event codes. We will generate arbitrary event codes. To specify custom event codes, please pass \"event_id\".\n",
      "Used Annotations descriptions: ['3', '32766', '5']\n",
      "Writing 'bidsdataset\\sub-010022\\ses-01\\eeg\\sub-010022_ses-01_task-EO_events.tsv'...\n",
      "Writing 'bidsdataset\\dataset_description.json'...\n",
      "Writing 'bidsdataset\\sub-010022\\ses-01\\eeg\\sub-010022_ses-01_task-EO_eeg.json'...\n",
      "Writing 'bidsdataset\\sub-010022\\ses-01\\eeg\\sub-010022_ses-01_task-EO_channels.tsv'...\n",
      "Copying data files to sub-010022_ses-01_task-EO_eeg.vhdr\n"
     ]
    },
    {
     "name": "stderr",
     "output_type": "stream",
     "text": [
      "C:\\Users\\victor.ferat\\AppData\\Local\\Temp\\ipykernel_500\\481121462.py:19: RuntimeWarning: Converting data files to BrainVision format\n",
      "  write_raw_bids(raw, bids_path=bids_path, allow_preload=True, format=\"BrainVision\", overwrite=True)\n",
      "C:\\Users\\victor.ferat\\AppData\\Local\\Temp\\ipykernel_500\\481121462.py:19: RuntimeWarning: Encountered data in \"double\" format. Converting to float32.\n",
      "  write_raw_bids(raw, bids_path=bids_path, allow_preload=True, format=\"BrainVision\", overwrite=True)\n"
     ]
    },
    {
     "ename": "ValueError",
     "evalue": "events: at least one onset sample is not in range of data (0-7500)",
     "output_type": "error",
     "traceback": [
      "\u001b[1;31m---------------------------------------------------------------------------\u001b[0m",
      "\u001b[1;31mValueError\u001b[0m                                Traceback (most recent call last)",
      "Cell \u001b[1;32mIn[10], line 19\u001b[0m\n\u001b[0;32m     16\u001b[0m raw\u001b[38;5;241m.\u001b[39mload_data()\n\u001b[0;32m     17\u001b[0m bids_path \u001b[38;5;241m=\u001b[39m BIDSPath(subject\u001b[38;5;241m=\u001b[39msubject_id, session\u001b[38;5;241m=\u001b[39m\u001b[38;5;124m'\u001b[39m\u001b[38;5;124m01\u001b[39m\u001b[38;5;124m'\u001b[39m, task\u001b[38;5;241m=\u001b[39mcondition,\n\u001b[0;32m     18\u001b[0m                      datatype\u001b[38;5;241m=\u001b[39m\u001b[38;5;124m'\u001b[39m\u001b[38;5;124meeg\u001b[39m\u001b[38;5;124m'\u001b[39m, root\u001b[38;5;241m=\u001b[39m\u001b[38;5;124m'\u001b[39m\u001b[38;5;124m./bidsdataset\u001b[39m\u001b[38;5;124m'\u001b[39m)\n\u001b[1;32m---> 19\u001b[0m \u001b[43mwrite_raw_bids\u001b[49m\u001b[43m(\u001b[49m\u001b[43mraw\u001b[49m\u001b[43m,\u001b[49m\u001b[43m \u001b[49m\u001b[43mbids_path\u001b[49m\u001b[38;5;241;43m=\u001b[39;49m\u001b[43mbids_path\u001b[49m\u001b[43m,\u001b[49m\u001b[43m \u001b[49m\u001b[43mallow_preload\u001b[49m\u001b[38;5;241;43m=\u001b[39;49m\u001b[38;5;28;43;01mTrue\u001b[39;49;00m\u001b[43m,\u001b[49m\u001b[43m \u001b[49m\u001b[38;5;28;43mformat\u001b[39;49m\u001b[38;5;241;43m=\u001b[39;49m\u001b[38;5;124;43m\"\u001b[39;49m\u001b[38;5;124;43mBrainVision\u001b[39;49m\u001b[38;5;124;43m\"\u001b[39;49m\u001b[43m,\u001b[49m\u001b[43m \u001b[49m\u001b[43moverwrite\u001b[49m\u001b[38;5;241;43m=\u001b[39;49m\u001b[38;5;28;43;01mTrue\u001b[39;49;00m\u001b[43m)\u001b[49m\n",
      "File \u001b[1;32m<decorator-gen-640>:12\u001b[0m, in \u001b[0;36mwrite_raw_bids\u001b[1;34m(raw, bids_path, events, event_id, anonymize, format, symlink, empty_room, allow_preload, montage, acpc_aligned, overwrite, events_data, verbose)\u001b[0m\n",
      "File \u001b[1;32m~\\AppData\\Local\\miniconda3\\envs\\report\\lib\\site-packages\\mne_bids\\write.py:1950\u001b[0m, in \u001b[0;36mwrite_raw_bids\u001b[1;34m(***failed resolving arguments***)\u001b[0m\n\u001b[0;32m   1948\u001b[0m         bids_path\u001b[38;5;241m.\u001b[39mupdate(suffix\u001b[38;5;241m=\u001b[39mbids_path\u001b[38;5;241m.\u001b[39mdatatype, extension\u001b[38;5;241m=\u001b[39m\u001b[38;5;124m'\u001b[39m\u001b[38;5;124m.vhdr\u001b[39m\u001b[38;5;124m'\u001b[39m)\n\u001b[0;32m   1949\u001b[0m         \u001b[38;5;66;03m# XXX Should we write durations here too?\u001b[39;00m\n\u001b[1;32m-> 1950\u001b[0m         \u001b[43m_write_raw_brainvision\u001b[49m\u001b[43m(\u001b[49m\u001b[43mraw\u001b[49m\u001b[43m,\u001b[49m\u001b[43m \u001b[49m\u001b[43mbids_path\u001b[49m\u001b[38;5;241;43m.\u001b[39;49m\u001b[43mfpath\u001b[49m\u001b[43m,\u001b[49m\u001b[43m \u001b[49m\u001b[43mevents\u001b[49m\u001b[38;5;241;43m=\u001b[39;49m\u001b[43mevents_array\u001b[49m\u001b[43m,\u001b[49m\n\u001b[0;32m   1951\u001b[0m \u001b[43m                               \u001b[49m\u001b[43moverwrite\u001b[49m\u001b[38;5;241;43m=\u001b[39;49m\u001b[43moverwrite\u001b[49m\u001b[43m)\u001b[49m\n\u001b[0;32m   1952\u001b[0m \u001b[38;5;28;01melif\u001b[39;00m ext \u001b[38;5;241m==\u001b[39m \u001b[38;5;124m'\u001b[39m\u001b[38;5;124m.fif\u001b[39m\u001b[38;5;124m'\u001b[39m:\n\u001b[0;32m   1953\u001b[0m     \u001b[38;5;28;01mif\u001b[39;00m symlink:\n",
      "File \u001b[1;32m~\\AppData\\Local\\miniconda3\\envs\\report\\lib\\site-packages\\mne_bids\\write.py:1064\u001b[0m, in \u001b[0;36m_write_raw_brainvision\u001b[1;34m(raw, bids_fname, events, overwrite)\u001b[0m\n\u001b[0;32m   1062\u001b[0m fmt \u001b[38;5;241m=\u001b[39m \u001b[38;5;124m'\u001b[39m\u001b[38;5;124mbinary_float32\u001b[39m\u001b[38;5;124m'\u001b[39m\n\u001b[0;32m   1063\u001b[0m resolution \u001b[38;5;241m=\u001b[39m \u001b[38;5;241m1e-1\u001b[39m\n\u001b[1;32m-> 1064\u001b[0m \u001b[43mwrite_brainvision\u001b[49m\u001b[43m(\u001b[49m\u001b[43mdata\u001b[49m\u001b[38;5;241;43m=\u001b[39;49m\u001b[43mraw\u001b[49m\u001b[38;5;241;43m.\u001b[39;49m\u001b[43mget_data\u001b[49m\u001b[43m(\u001b[49m\u001b[43m)\u001b[49m\u001b[43m,\u001b[49m\n\u001b[0;32m   1065\u001b[0m \u001b[43m                  \u001b[49m\u001b[43msfreq\u001b[49m\u001b[38;5;241;43m=\u001b[39;49m\u001b[43mraw\u001b[49m\u001b[38;5;241;43m.\u001b[39;49m\u001b[43minfo\u001b[49m\u001b[43m[\u001b[49m\u001b[38;5;124;43m'\u001b[39;49m\u001b[38;5;124;43msfreq\u001b[39;49m\u001b[38;5;124;43m'\u001b[39;49m\u001b[43m]\u001b[49m\u001b[43m,\u001b[49m\n\u001b[0;32m   1066\u001b[0m \u001b[43m                  \u001b[49m\u001b[43mch_names\u001b[49m\u001b[38;5;241;43m=\u001b[39;49m\u001b[43mraw\u001b[49m\u001b[38;5;241;43m.\u001b[39;49m\u001b[43mch_names\u001b[49m\u001b[43m,\u001b[49m\n\u001b[0;32m   1067\u001b[0m \u001b[43m                  \u001b[49m\u001b[43mref_ch_names\u001b[49m\u001b[38;5;241;43m=\u001b[39;49m\u001b[38;5;28;43;01mNone\u001b[39;49;00m\u001b[43m,\u001b[49m\n\u001b[0;32m   1068\u001b[0m \u001b[43m                  \u001b[49m\u001b[43mfname_base\u001b[49m\u001b[38;5;241;43m=\u001b[39;49m\u001b[43mop\u001b[49m\u001b[38;5;241;43m.\u001b[39;49m\u001b[43msplitext\u001b[49m\u001b[43m(\u001b[49m\u001b[43mop\u001b[49m\u001b[38;5;241;43m.\u001b[39;49m\u001b[43mbasename\u001b[49m\u001b[43m(\u001b[49m\u001b[43mbids_fname\u001b[49m\u001b[43m)\u001b[49m\u001b[43m)\u001b[49m\u001b[43m[\u001b[49m\u001b[38;5;241;43m0\u001b[39;49m\u001b[43m]\u001b[49m\u001b[43m,\u001b[49m\n\u001b[0;32m   1069\u001b[0m \u001b[43m                  \u001b[49m\u001b[43mfolder_out\u001b[49m\u001b[38;5;241;43m=\u001b[39;49m\u001b[43mop\u001b[49m\u001b[38;5;241;43m.\u001b[39;49m\u001b[43mdirname\u001b[49m\u001b[43m(\u001b[49m\u001b[43mbids_fname\u001b[49m\u001b[43m)\u001b[49m\u001b[43m,\u001b[49m\n\u001b[0;32m   1070\u001b[0m \u001b[43m                  \u001b[49m\u001b[43moverwrite\u001b[49m\u001b[38;5;241;43m=\u001b[39;49m\u001b[43moverwrite\u001b[49m\u001b[43m,\u001b[49m\n\u001b[0;32m   1071\u001b[0m \u001b[43m                  \u001b[49m\u001b[43mevents\u001b[49m\u001b[38;5;241;43m=\u001b[39;49m\u001b[43mevents\u001b[49m\u001b[43m,\u001b[49m\n\u001b[0;32m   1072\u001b[0m \u001b[43m                  \u001b[49m\u001b[43mresolution\u001b[49m\u001b[38;5;241;43m=\u001b[39;49m\u001b[43mresolution\u001b[49m\u001b[43m,\u001b[49m\n\u001b[0;32m   1073\u001b[0m \u001b[43m                  \u001b[49m\u001b[43munit\u001b[49m\u001b[38;5;241;43m=\u001b[39;49m\u001b[43munit\u001b[49m\u001b[43m,\u001b[49m\n\u001b[0;32m   1074\u001b[0m \u001b[43m                  \u001b[49m\u001b[43mfmt\u001b[49m\u001b[38;5;241;43m=\u001b[39;49m\u001b[43mfmt\u001b[49m\u001b[43m,\u001b[49m\n\u001b[0;32m   1075\u001b[0m \u001b[43m                  \u001b[49m\u001b[43mmeas_date\u001b[49m\u001b[38;5;241;43m=\u001b[39;49m\u001b[38;5;28;43;01mNone\u001b[39;49;00m\u001b[43m)\u001b[49m\n",
      "File \u001b[1;32m~\\AppData\\Local\\miniconda3\\envs\\report\\lib\\site-packages\\pybv\\io.py:211\u001b[0m, in \u001b[0;36mwrite_brainvision\u001b[1;34m(data, sfreq, ch_names, ref_ch_names, fname_base, folder_out, overwrite, events, resolution, unit, fmt, meas_date)\u001b[0m\n\u001b[0;32m    208\u001b[0m \u001b[38;5;28;01mif\u001b[39;00m \u001b[38;5;28mlen\u001b[39m(\u001b[38;5;28mset\u001b[39m(ch_names)) \u001b[38;5;241m!=\u001b[39m nchan:\n\u001b[0;32m    209\u001b[0m     \u001b[38;5;28;01mraise\u001b[39;00m \u001b[38;5;167;01mValueError\u001b[39;00m(\u001b[38;5;124m\"\u001b[39m\u001b[38;5;124mChannel names must be unique, found duplicate name.\u001b[39m\u001b[38;5;124m\"\u001b[39m)\n\u001b[1;32m--> 211\u001b[0m events \u001b[38;5;241m=\u001b[39m \u001b[43m_chk_events\u001b[49m\u001b[43m(\u001b[49m\u001b[43mevents\u001b[49m\u001b[43m,\u001b[49m\u001b[43m \u001b[49m\u001b[43mch_names\u001b[49m\u001b[43m,\u001b[49m\u001b[43m \u001b[49m\u001b[43mdata\u001b[49m\u001b[38;5;241;43m.\u001b[39;49m\u001b[43mshape\u001b[49m\u001b[43m[\u001b[49m\u001b[38;5;241;43m1\u001b[39;49m\u001b[43m]\u001b[49m\u001b[43m)\u001b[49m\n\u001b[0;32m    213\u001b[0m \u001b[38;5;66;03m# Ensure we have a list of strings as reference channel names\u001b[39;00m\n\u001b[0;32m    214\u001b[0m \u001b[38;5;28;01mif\u001b[39;00m ref_ch_names \u001b[38;5;129;01mis\u001b[39;00m \u001b[38;5;28;01mNone\u001b[39;00m:\n",
      "File \u001b[1;32m~\\AppData\\Local\\miniconda3\\envs\\report\\lib\\site-packages\\pybv\\io.py:473\u001b[0m, in \u001b[0;36m_chk_events\u001b[1;34m(events, ch_names, n_times)\u001b[0m\n\u001b[0;32m    470\u001b[0m         \u001b[38;5;28;01mraise\u001b[39;00m \u001b[38;5;167;01mValueError\u001b[39;00m(\u001b[38;5;124mf\u001b[39m\u001b[38;5;124m\"\u001b[39m\u001b[38;5;124mevents: `\u001b[39m\u001b[38;5;132;01m{\u001b[39;00mkey\u001b[38;5;132;01m}\u001b[39;00m\u001b[38;5;124m` must be int\u001b[39m\u001b[38;5;124m\"\u001b[39m)\n\u001b[0;32m    472\u001b[0m \u001b[38;5;28;01mif\u001b[39;00m \u001b[38;5;129;01mnot\u001b[39;00m (\u001b[38;5;241m0\u001b[39m \u001b[38;5;241m<\u001b[39m\u001b[38;5;241m=\u001b[39m event[\u001b[38;5;124m\"\u001b[39m\u001b[38;5;124monset\u001b[39m\u001b[38;5;124m\"\u001b[39m] \u001b[38;5;241m<\u001b[39m n_times):\n\u001b[1;32m--> 473\u001b[0m     \u001b[38;5;28;01mraise\u001b[39;00m \u001b[38;5;167;01mValueError\u001b[39;00m(\n\u001b[0;32m    474\u001b[0m         \u001b[38;5;124m\"\u001b[39m\u001b[38;5;124mevents: at least one onset sample is not in range of \u001b[39m\u001b[38;5;124m\"\u001b[39m\n\u001b[0;32m    475\u001b[0m         \u001b[38;5;124mf\u001b[39m\u001b[38;5;124m\"\u001b[39m\u001b[38;5;124mdata (0-\u001b[39m\u001b[38;5;132;01m{\u001b[39;00mn_times\u001b[38;5;241m-\u001b[39m\u001b[38;5;241m1\u001b[39m\u001b[38;5;132;01m}\u001b[39;00m\u001b[38;5;124m)\u001b[39m\u001b[38;5;124m\"\u001b[39m\n\u001b[0;32m    476\u001b[0m     )\n\u001b[0;32m    478\u001b[0m \u001b[38;5;28;01mif\u001b[39;00m event[\u001b[38;5;124m\"\u001b[39m\u001b[38;5;124mduration\u001b[39m\u001b[38;5;124m\"\u001b[39m] \u001b[38;5;241m<\u001b[39m \u001b[38;5;241m0\u001b[39m:\n\u001b[0;32m    479\u001b[0m     \u001b[38;5;28;01mraise\u001b[39;00m \u001b[38;5;167;01mValueError\u001b[39;00m(\n\u001b[0;32m    480\u001b[0m         \u001b[38;5;124m\"\u001b[39m\u001b[38;5;124mevents: at least one duration is negative. Durations \u001b[39m\u001b[38;5;124m\"\u001b[39m\n\u001b[0;32m    481\u001b[0m         \u001b[38;5;124m\"\u001b[39m\u001b[38;5;124mmust be >= 0 samples.\u001b[39m\u001b[38;5;124m\"\u001b[39m\n\u001b[0;32m    482\u001b[0m     )\n",
      "\u001b[1;31mValueError\u001b[0m: events: at least one onset sample is not in range of data (0-7500)"
     ]
    }
   ],
   "source": [
    "import mne\n",
    "from mne_bids import BIDSPath, write_raw_bids\n",
    "from pycrostates.datasets import lemon\n",
    "from mne.io import read_raw_eeglab\n",
    "\n",
    "conditions = [\"EO\", \"EC\"]\n",
    "subject_ids = [\"010020\", \"010021\", \"010022\", \"010023\", \"010024\"]\n",
    "for condition in conditions:\n",
    "    for subject_id in subject_ids:\n",
    "        # load Data\n",
    "        raw_fname = lemon.data_path(subject_id=subject_id, condition=condition)\n",
    "        raw = read_raw_eeglab(raw_fname, preload=True)\n",
    "        raw = lemon.standardize(raw)\n",
    "        raw.pick(\"eeg\")\n",
    "        raw.crop(0, 30)  # crop the dataset to speed up computation\n",
    "        raw.load_data()\n",
    "        bids_path = BIDSPath(subject=subject_id, session='01', task=condition,\n",
    "                             datatype='eeg', root='./bidsdataset')\n",
    "        write_raw_bids(raw, bids_path=bids_path, allow_preload=True, format=\"BrainVision\", overwrite=True)"
   ]
  },
  {
   "cell_type": "code",
   "execution_count": null,
   "id": "8f4f8ae3",
   "metadata": {},
   "outputs": [],
   "source": []
  }
 ],
 "metadata": {
  "kernelspec": {
   "display_name": "Python [conda env:report]",
   "language": "python",
   "name": "conda-env-report-py"
  },
  "language_info": {
   "codemirror_mode": {
    "name": "ipython",
    "version": 3
   },
   "file_extension": ".py",
   "mimetype": "text/x-python",
   "name": "python",
   "nbconvert_exporter": "python",
   "pygments_lexer": "ipython3",
   "version": "3.10.11"
  }
 },
 "nbformat": 4,
 "nbformat_minor": 5
}
