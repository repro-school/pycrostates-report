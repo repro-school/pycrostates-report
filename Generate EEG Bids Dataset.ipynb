{
 "cells": [
  {
   "cell_type": "markdown",
   "id": "a7fc7e4b",
   "metadata": {},
   "source": [
    "Install requirements:\n",
    "```\n",
    "pip install pycrostates mne_bids pybv \n",
    "```"
   ]
  },
  {
   "cell_type": "code",
   "execution_count": 13,
   "id": "5006da9e",
   "metadata": {},
   "outputs": [
    {
     "name": "stdout",
     "output_type": "stream",
     "text": [
      "Reading C:\\Users\\victor.ferat\\pycrostates_data\\PREPROCESSED_LEMON\\sub-010020_EO.fdt\n",
      "Reading 0 ... 104402  =      0.000 ...   417.608 secs...\n",
      "Creating RawArray with float64 data, n_channels=61, n_times=104403\n",
      "    Range : 0 ... 104402 =      0.000 ...   417.608 secs\n",
      "Ready.\n",
      "Location for this channel is unknown; consider calling set_montage() again if needed.\n",
      "Interpolating bad channels\n",
      "    Automatic origin fit: head of radius 95.8 mm\n",
      "Computing interpolation matrix from 59 sensor positions\n",
      "Interpolating 2 sensors\n"
     ]
    },
    {
     "name": "stderr",
     "output_type": "stream",
     "text": [
      "C:\\Users\\victor.ferat\\AppData\\Local\\Temp\\ipykernel_500\\3743410219.py:12: RuntimeWarning: Limited 1 annotation(s) that were expanding outside the data range.\n",
      "  raw = read_raw_eeglab(raw_fname, preload=True)\n",
      "C:\\Users\\victor.ferat\\AppData\\Local\\Temp\\ipykernel_500\\3743410219.py:12: RuntimeWarning: The data contains 'boundary' events, indicating data discontinuities. Be cautious of filtering and epoching around these events.\n",
      "  raw = read_raw_eeglab(raw_fname, preload=True)\n"
     ]
    },
    {
     "name": "stdout",
     "output_type": "stream",
     "text": [
      "EEG channel type selected for re-referencing\n",
      "Applying average reference.\n",
      "Applying a custom ('EEG',) reference.\n",
      "Writing 'bidsdataset\\participants.tsv'...\n",
      "Writing 'bidsdataset\\participants.json'...\n",
      "Writing 'bidsdataset/sub-010020/ses-01/eeg/sub-010020_ses-01_space-CapTrak_electrodes.tsv'...\n",
      "Writing 'bidsdataset/sub-010020/ses-01/eeg/sub-010020_ses-01_space-CapTrak_coordsystem.json'...\n",
      "Writing 'bidsdataset\\dataset_description.json'...\n",
      "Writing 'bidsdataset\\sub-010020\\ses-01\\eeg\\sub-010020_ses-01_task-EO_eeg.json'...\n",
      "Found no extension for raw file, assuming \"BTi\" format and appending extension .pdf\n",
      "Writing 'bidsdataset\\sub-010020\\ses-01\\eeg\\sub-010020_ses-01_task-EO_channels.tsv'...\n",
      "Copying data files to sub-010020_ses-01_task-EO_eeg.vhdr\n",
      "Writing 'bidsdataset\\sub-010020\\ses-01\\sub-010020_ses-01_scans.tsv'...\n",
      "Wrote bidsdataset\\sub-010020\\ses-01\\sub-010020_ses-01_scans.tsv entry with eeg\\sub-010020_ses-01_task-EO_eeg.vhdr.\n"
     ]
    },
    {
     "name": "stderr",
     "output_type": "stream",
     "text": [
      "C:\\Users\\victor.ferat\\AppData\\Local\\Temp\\ipykernel_500\\3743410219.py:19: RuntimeWarning: No events found or provided. Please add annotations to the raw data, or provide the events and event_id parameters. For resting state data, BIDS recommends naming the task using labels beginning with \"rest\".\n",
      "  write_raw_bids(raw, bids_path=bids_path, allow_preload=True, format=\"BrainVision\", overwrite=True)\n",
      "C:\\Users\\victor.ferat\\AppData\\Local\\Temp\\ipykernel_500\\3743410219.py:19: RuntimeWarning: Converting data files to BrainVision format\n",
      "  write_raw_bids(raw, bids_path=bids_path, allow_preload=True, format=\"BrainVision\", overwrite=True)\n",
      "C:\\Users\\victor.ferat\\AppData\\Local\\Temp\\ipykernel_500\\3743410219.py:19: RuntimeWarning: Encountered data in \"double\" format. Converting to float32.\n",
      "  write_raw_bids(raw, bids_path=bids_path, allow_preload=True, format=\"BrainVision\", overwrite=True)\n"
     ]
    },
    {
     "name": "stdout",
     "output_type": "stream",
     "text": [
      "Reading C:\\Users\\victor.ferat\\pycrostates_data\\PREPROCESSED_LEMON\\sub-010021_EO.fdt\n",
      "Reading 0 ... 114834  =      0.000 ...   459.336 secs...\n",
      "EEG channel type selected for re-referencing\n",
      "Applying average reference.\n",
      "Applying a custom ('EEG',) reference.\n"
     ]
    },
    {
     "name": "stderr",
     "output_type": "stream",
     "text": [
      "C:\\Users\\victor.ferat\\AppData\\Local\\Temp\\ipykernel_500\\3743410219.py:12: RuntimeWarning: Limited 1 annotation(s) that were expanding outside the data range.\n",
      "  raw = read_raw_eeglab(raw_fname, preload=True)\n",
      "C:\\Users\\victor.ferat\\AppData\\Local\\Temp\\ipykernel_500\\3743410219.py:12: RuntimeWarning: The data contains 'boundary' events, indicating data discontinuities. Be cautious of filtering and epoching around these events.\n",
      "  raw = read_raw_eeglab(raw_fname, preload=True)\n",
      "C:\\Users\\victor.ferat\\AppData\\Local\\miniconda3\\envs\\report\\lib\\site-packages\\pycrostates\\datasets\\lemon\\lemon.py:135: RuntimeWarning: The locations of multiple reference channels are ignored.\n",
      "  raw.add_reference_channels(\"FCz\")\n",
      "C:\\Users\\victor.ferat\\AppData\\Local\\miniconda3\\envs\\report\\lib\\site-packages\\pycrostates\\datasets\\lemon\\lemon.py:138: RuntimeWarning: No bad channels to interpolate. Doing nothing...\n",
      "  raw.interpolate_bads()\n"
     ]
    },
    {
     "name": "stdout",
     "output_type": "stream",
     "text": [
      "Writing 'bidsdataset\\participants.tsv'...\n",
      "Writing 'bidsdataset\\participants.json'...\n",
      "Writing 'bidsdataset/sub-010021/ses-01/eeg/sub-010021_ses-01_space-CapTrak_electrodes.tsv'...\n",
      "Writing 'bidsdataset/sub-010021/ses-01/eeg/sub-010021_ses-01_space-CapTrak_coordsystem.json'...\n",
      "The provided raw data contains annotations, but you did not pass an \"event_id\" mapping from annotation descriptions to event codes. We will generate arbitrary event codes. To specify custom event codes, please pass \"event_id\".\n",
      "Used Annotations descriptions: ['3', '32766', '5', 'boundary']\n",
      "Writing 'bidsdataset\\sub-010021\\ses-01\\eeg\\sub-010021_ses-01_task-EO_events.tsv'...\n",
      "Writing 'bidsdataset\\dataset_description.json'...\n",
      "Writing 'bidsdataset\\sub-010021\\ses-01\\eeg\\sub-010021_ses-01_task-EO_eeg.json'...\n",
      "Writing 'bidsdataset\\sub-010021\\ses-01\\eeg\\sub-010021_ses-01_task-EO_channels.tsv'...\n",
      "Copying data files to sub-010021_ses-01_task-EO_eeg.vhdr\n",
      "Writing 'bidsdataset\\sub-010021\\ses-01\\sub-010021_ses-01_scans.tsv'...\n",
      "Wrote bidsdataset\\sub-010021\\ses-01\\sub-010021_ses-01_scans.tsv entry with eeg\\sub-010021_ses-01_task-EO_eeg.vhdr.\n"
     ]
    },
    {
     "name": "stderr",
     "output_type": "stream",
     "text": [
      "C:\\Users\\victor.ferat\\AppData\\Local\\Temp\\ipykernel_500\\3743410219.py:19: RuntimeWarning: Converting data files to BrainVision format\n",
      "  write_raw_bids(raw, bids_path=bids_path, allow_preload=True, format=\"BrainVision\", overwrite=True)\n",
      "C:\\Users\\victor.ferat\\AppData\\Local\\Temp\\ipykernel_500\\3743410219.py:19: RuntimeWarning: Encountered data in \"double\" format. Converting to float32.\n",
      "  write_raw_bids(raw, bids_path=bids_path, allow_preload=True, format=\"BrainVision\", overwrite=True)\n"
     ]
    },
    {
     "name": "stdout",
     "output_type": "stream",
     "text": [
      "Reading C:\\Users\\victor.ferat\\pycrostates_data\\PREPROCESSED_LEMON\\sub-010022_EO.fdt\n",
      "Reading 0 ... 118241  =      0.000 ...   472.964 secs...\n",
      "EEG channel type selected for re-referencing\n",
      "Applying average reference.\n",
      "Applying a custom ('EEG',) reference.\n"
     ]
    },
    {
     "name": "stderr",
     "output_type": "stream",
     "text": [
      "C:\\Users\\victor.ferat\\AppData\\Local\\Temp\\ipykernel_500\\3743410219.py:12: RuntimeWarning: Limited 1 annotation(s) that were expanding outside the data range.\n",
      "  raw = read_raw_eeglab(raw_fname, preload=True)\n",
      "C:\\Users\\victor.ferat\\AppData\\Local\\Temp\\ipykernel_500\\3743410219.py:12: RuntimeWarning: The data contains 'boundary' events, indicating data discontinuities. Be cautious of filtering and epoching around these events.\n",
      "  raw = read_raw_eeglab(raw_fname, preload=True)\n",
      "C:\\Users\\victor.ferat\\AppData\\Local\\miniconda3\\envs\\report\\lib\\site-packages\\pycrostates\\datasets\\lemon\\lemon.py:135: RuntimeWarning: The locations of multiple reference channels are ignored.\n",
      "  raw.add_reference_channels(\"FCz\")\n",
      "C:\\Users\\victor.ferat\\AppData\\Local\\miniconda3\\envs\\report\\lib\\site-packages\\pycrostates\\datasets\\lemon\\lemon.py:138: RuntimeWarning: No bad channels to interpolate. Doing nothing...\n",
      "  raw.interpolate_bads()\n"
     ]
    },
    {
     "name": "stdout",
     "output_type": "stream",
     "text": [
      "Writing 'bidsdataset\\participants.tsv'...\n",
      "Writing 'bidsdataset\\participants.json'...\n",
      "Writing 'bidsdataset/sub-010022/ses-01/eeg/sub-010022_ses-01_space-CapTrak_electrodes.tsv'...\n",
      "Writing 'bidsdataset/sub-010022/ses-01/eeg/sub-010022_ses-01_space-CapTrak_coordsystem.json'...\n",
      "The provided raw data contains annotations, but you did not pass an \"event_id\" mapping from annotation descriptions to event codes. We will generate arbitrary event codes. To specify custom event codes, please pass \"event_id\".\n",
      "Used Annotations descriptions: ['3', '32766', '5', 'boundary']\n",
      "Writing 'bidsdataset\\sub-010022\\ses-01\\eeg\\sub-010022_ses-01_task-EO_events.tsv'...\n",
      "Writing 'bidsdataset\\dataset_description.json'...\n",
      "Writing 'bidsdataset\\sub-010022\\ses-01\\eeg\\sub-010022_ses-01_task-EO_eeg.json'...\n",
      "Writing 'bidsdataset\\sub-010022\\ses-01\\eeg\\sub-010022_ses-01_task-EO_channels.tsv'...\n",
      "Copying data files to sub-010022_ses-01_task-EO_eeg.vhdr\n",
      "Writing 'bidsdataset\\sub-010022\\ses-01\\sub-010022_ses-01_scans.tsv'...\n",
      "Wrote bidsdataset\\sub-010022\\ses-01\\sub-010022_ses-01_scans.tsv entry with eeg\\sub-010022_ses-01_task-EO_eeg.vhdr.\n"
     ]
    },
    {
     "name": "stderr",
     "output_type": "stream",
     "text": [
      "C:\\Users\\victor.ferat\\AppData\\Local\\Temp\\ipykernel_500\\3743410219.py:19: RuntimeWarning: Converting data files to BrainVision format\n",
      "  write_raw_bids(raw, bids_path=bids_path, allow_preload=True, format=\"BrainVision\", overwrite=True)\n",
      "C:\\Users\\victor.ferat\\AppData\\Local\\Temp\\ipykernel_500\\3743410219.py:19: RuntimeWarning: Encountered data in \"double\" format. Converting to float32.\n",
      "  write_raw_bids(raw, bids_path=bids_path, allow_preload=True, format=\"BrainVision\", overwrite=True)\n",
      "Downloading file 'sub-010023_EO.set' from 'https://ftp.gwdg.de/pub/misc/MPI-Leipzig_Mind-Brain-Body-LEMON/EEG_MPILMBB_LEMON/EEG_Preprocessed_BIDS_ID/EEG_Preprocessed/sub-010023_EO.set' to 'C:\\Users\\victor.ferat\\pycrostates_data\\PREPROCESSED_LEMON'.\n",
      "Downloading file 'sub-010023_EO.fdt' from 'https://ftp.gwdg.de/pub/misc/MPI-Leipzig_Mind-Brain-Body-LEMON/EEG_MPILMBB_LEMON/EEG_Preprocessed_BIDS_ID/EEG_Preprocessed/sub-010023_EO.fdt' to 'C:\\Users\\victor.ferat\\pycrostates_data\\PREPROCESSED_LEMON'.\n"
     ]
    },
    {
     "name": "stdout",
     "output_type": "stream",
     "text": [
      "Reading C:\\Users\\victor.ferat\\pycrostates_data\\PREPROCESSED_LEMON\\sub-010023_EO.fdt\n",
      "Reading 0 ... 105067  =      0.000 ...   420.268 secs...\n",
      "EEG channel type selected for re-referencing\n",
      "Applying average reference.\n",
      "Applying a custom ('EEG',) reference.\n"
     ]
    },
    {
     "name": "stderr",
     "output_type": "stream",
     "text": [
      "C:\\Users\\victor.ferat\\AppData\\Local\\Temp\\ipykernel_500\\3743410219.py:12: RuntimeWarning: Limited 1 annotation(s) that were expanding outside the data range.\n",
      "  raw = read_raw_eeglab(raw_fname, preload=True)\n",
      "C:\\Users\\victor.ferat\\AppData\\Local\\Temp\\ipykernel_500\\3743410219.py:12: RuntimeWarning: The data contains 'boundary' events, indicating data discontinuities. Be cautious of filtering and epoching around these events.\n",
      "  raw = read_raw_eeglab(raw_fname, preload=True)\n",
      "C:\\Users\\victor.ferat\\AppData\\Local\\miniconda3\\envs\\report\\lib\\site-packages\\pycrostates\\datasets\\lemon\\lemon.py:135: RuntimeWarning: The locations of multiple reference channels are ignored.\n",
      "  raw.add_reference_channels(\"FCz\")\n",
      "C:\\Users\\victor.ferat\\AppData\\Local\\miniconda3\\envs\\report\\lib\\site-packages\\pycrostates\\datasets\\lemon\\lemon.py:138: RuntimeWarning: No bad channels to interpolate. Doing nothing...\n",
      "  raw.interpolate_bads()\n"
     ]
    },
    {
     "name": "stdout",
     "output_type": "stream",
     "text": [
      "Writing 'bidsdataset\\participants.tsv'...\n",
      "Writing 'bidsdataset\\participants.json'...\n",
      "Writing 'bidsdataset/sub-010023/ses-01/eeg/sub-010023_ses-01_space-CapTrak_electrodes.tsv'...\n",
      "Writing 'bidsdataset/sub-010023/ses-01/eeg/sub-010023_ses-01_space-CapTrak_coordsystem.json'...\n",
      "The provided raw data contains annotations, but you did not pass an \"event_id\" mapping from annotation descriptions to event codes. We will generate arbitrary event codes. To specify custom event codes, please pass \"event_id\".\n",
      "Used Annotations descriptions: ['3', '32766', '5', 'boundary']\n",
      "Writing 'bidsdataset\\sub-010023\\ses-01\\eeg\\sub-010023_ses-01_task-EO_events.tsv'...\n",
      "Writing 'bidsdataset\\dataset_description.json'...\n",
      "Writing 'bidsdataset\\sub-010023\\ses-01\\eeg\\sub-010023_ses-01_task-EO_eeg.json'...\n",
      "Writing 'bidsdataset\\sub-010023\\ses-01\\eeg\\sub-010023_ses-01_task-EO_channels.tsv'...\n",
      "Copying data files to sub-010023_ses-01_task-EO_eeg.vhdr\n",
      "Writing 'bidsdataset\\sub-010023\\ses-01\\sub-010023_ses-01_scans.tsv'...\n",
      "Wrote bidsdataset\\sub-010023\\ses-01\\sub-010023_ses-01_scans.tsv entry with eeg\\sub-010023_ses-01_task-EO_eeg.vhdr.\n"
     ]
    },
    {
     "name": "stderr",
     "output_type": "stream",
     "text": [
      "C:\\Users\\victor.ferat\\AppData\\Local\\Temp\\ipykernel_500\\3743410219.py:19: RuntimeWarning: Converting data files to BrainVision format\n",
      "  write_raw_bids(raw, bids_path=bids_path, allow_preload=True, format=\"BrainVision\", overwrite=True)\n",
      "C:\\Users\\victor.ferat\\AppData\\Local\\Temp\\ipykernel_500\\3743410219.py:19: RuntimeWarning: Encountered data in \"double\" format. Converting to float32.\n",
      "  write_raw_bids(raw, bids_path=bids_path, allow_preload=True, format=\"BrainVision\", overwrite=True)\n",
      "Downloading file 'sub-010024_EO.set' from 'https://ftp.gwdg.de/pub/misc/MPI-Leipzig_Mind-Brain-Body-LEMON/EEG_MPILMBB_LEMON/EEG_Preprocessed_BIDS_ID/EEG_Preprocessed/sub-010024_EO.set' to 'C:\\Users\\victor.ferat\\pycrostates_data\\PREPROCESSED_LEMON'.\n",
      "Downloading file 'sub-010024_EO.fdt' from 'https://ftp.gwdg.de/pub/misc/MPI-Leipzig_Mind-Brain-Body-LEMON/EEG_MPILMBB_LEMON/EEG_Preprocessed_BIDS_ID/EEG_Preprocessed/sub-010024_EO.fdt' to 'C:\\Users\\victor.ferat\\pycrostates_data\\PREPROCESSED_LEMON'.\n"
     ]
    },
    {
     "name": "stdout",
     "output_type": "stream",
     "text": [
      "Reading C:\\Users\\victor.ferat\\pycrostates_data\\PREPROCESSED_LEMON\\sub-010024_EO.fdt\n",
      "Reading 0 ... 118118  =      0.000 ...   472.472 secs...\n",
      "EEG channel type selected for re-referencing\n",
      "Applying average reference.\n",
      "Applying a custom ('EEG',) reference.\n"
     ]
    },
    {
     "name": "stderr",
     "output_type": "stream",
     "text": [
      "C:\\Users\\victor.ferat\\AppData\\Local\\Temp\\ipykernel_500\\3743410219.py:12: RuntimeWarning: Limited 1 annotation(s) that were expanding outside the data range.\n",
      "  raw = read_raw_eeglab(raw_fname, preload=True)\n",
      "C:\\Users\\victor.ferat\\AppData\\Local\\Temp\\ipykernel_500\\3743410219.py:12: RuntimeWarning: The data contains 'boundary' events, indicating data discontinuities. Be cautious of filtering and epoching around these events.\n",
      "  raw = read_raw_eeglab(raw_fname, preload=True)\n",
      "C:\\Users\\victor.ferat\\AppData\\Local\\miniconda3\\envs\\report\\lib\\site-packages\\pycrostates\\datasets\\lemon\\lemon.py:135: RuntimeWarning: The locations of multiple reference channels are ignored.\n",
      "  raw.add_reference_channels(\"FCz\")\n",
      "C:\\Users\\victor.ferat\\AppData\\Local\\miniconda3\\envs\\report\\lib\\site-packages\\pycrostates\\datasets\\lemon\\lemon.py:138: RuntimeWarning: No bad channels to interpolate. Doing nothing...\n",
      "  raw.interpolate_bads()\n"
     ]
    },
    {
     "name": "stdout",
     "output_type": "stream",
     "text": [
      "Writing 'bidsdataset\\participants.tsv'...\n",
      "Writing 'bidsdataset\\participants.json'...\n",
      "Writing 'bidsdataset/sub-010024/ses-01/eeg/sub-010024_ses-01_space-CapTrak_electrodes.tsv'...\n",
      "Writing 'bidsdataset/sub-010024/ses-01/eeg/sub-010024_ses-01_space-CapTrak_coordsystem.json'...\n",
      "The provided raw data contains annotations, but you did not pass an \"event_id\" mapping from annotation descriptions to event codes. We will generate arbitrary event codes. To specify custom event codes, please pass \"event_id\".\n",
      "Used Annotations descriptions: ['3', '32766', '5', 'boundary']\n",
      "Writing 'bidsdataset\\sub-010024\\ses-01\\eeg\\sub-010024_ses-01_task-EO_events.tsv'...\n",
      "Writing 'bidsdataset\\dataset_description.json'...\n",
      "Writing 'bidsdataset\\sub-010024\\ses-01\\eeg\\sub-010024_ses-01_task-EO_eeg.json'...\n",
      "Writing 'bidsdataset\\sub-010024\\ses-01\\eeg\\sub-010024_ses-01_task-EO_channels.tsv'...\n",
      "Copying data files to sub-010024_ses-01_task-EO_eeg.vhdr\n",
      "Writing 'bidsdataset\\sub-010024\\ses-01\\sub-010024_ses-01_scans.tsv'...\n",
      "Wrote bidsdataset\\sub-010024\\ses-01\\sub-010024_ses-01_scans.tsv entry with eeg\\sub-010024_ses-01_task-EO_eeg.vhdr.\n"
     ]
    },
    {
     "name": "stderr",
     "output_type": "stream",
     "text": [
      "C:\\Users\\victor.ferat\\AppData\\Local\\Temp\\ipykernel_500\\3743410219.py:19: RuntimeWarning: Converting data files to BrainVision format\n",
      "  write_raw_bids(raw, bids_path=bids_path, allow_preload=True, format=\"BrainVision\", overwrite=True)\n",
      "C:\\Users\\victor.ferat\\AppData\\Local\\Temp\\ipykernel_500\\3743410219.py:19: RuntimeWarning: Encountered data in \"double\" format. Converting to float32.\n",
      "  write_raw_bids(raw, bids_path=bids_path, allow_preload=True, format=\"BrainVision\", overwrite=True)\n",
      "Downloading file 'sub-010020_EC.set' from 'https://ftp.gwdg.de/pub/misc/MPI-Leipzig_Mind-Brain-Body-LEMON/EEG_MPILMBB_LEMON/EEG_Preprocessed_BIDS_ID/EEG_Preprocessed/sub-010020_EC.set' to 'C:\\Users\\victor.ferat\\pycrostates_data\\PREPROCESSED_LEMON'.\n",
      "Downloading file 'sub-010020_EC.fdt' from 'https://ftp.gwdg.de/pub/misc/MPI-Leipzig_Mind-Brain-Body-LEMON/EEG_MPILMBB_LEMON/EEG_Preprocessed_BIDS_ID/EEG_Preprocessed/sub-010020_EC.fdt' to 'C:\\Users\\victor.ferat\\pycrostates_data\\PREPROCESSED_LEMON'.\n"
     ]
    },
    {
     "name": "stdout",
     "output_type": "stream",
     "text": [
      "Reading C:\\Users\\victor.ferat\\pycrostates_data\\PREPROCESSED_LEMON\\sub-010020_EC.fdt\n",
      "Reading 0 ... 107237  =      0.000 ...   428.948 secs...\n",
      "Creating RawArray with float64 data, n_channels=61, n_times=107238\n",
      "    Range : 0 ... 107237 =      0.000 ...   428.948 secs\n",
      "Ready.\n",
      "Location for this channel is unknown; consider calling set_montage() again if needed.\n",
      "Interpolating bad channels\n",
      "    Automatic origin fit: head of radius 95.8 mm\n",
      "Computing interpolation matrix from 58 sensor positions\n",
      "Interpolating 3 sensors\n",
      "EEG channel type selected for re-referencing\n"
     ]
    },
    {
     "name": "stderr",
     "output_type": "stream",
     "text": [
      "C:\\Users\\victor.ferat\\AppData\\Local\\Temp\\ipykernel_500\\3743410219.py:12: RuntimeWarning: Limited 1 annotation(s) that were expanding outside the data range.\n",
      "  raw = read_raw_eeglab(raw_fname, preload=True)\n",
      "C:\\Users\\victor.ferat\\AppData\\Local\\Temp\\ipykernel_500\\3743410219.py:12: RuntimeWarning: The data contains 'boundary' events, indicating data discontinuities. Be cautious of filtering and epoching around these events.\n",
      "  raw = read_raw_eeglab(raw_fname, preload=True)\n"
     ]
    },
    {
     "name": "stdout",
     "output_type": "stream",
     "text": [
      "Applying average reference.\n",
      "Applying a custom ('EEG',) reference.\n",
      "Writing 'bidsdataset\\participants.tsv'...\n",
      "Writing 'bidsdataset\\participants.json'...\n",
      "Writing 'bidsdataset/sub-010020/ses-01/eeg/sub-010020_ses-01_space-CapTrak_electrodes.tsv'...\n",
      "Writing 'bidsdataset/sub-010020/ses-01/eeg/sub-010020_ses-01_space-CapTrak_coordsystem.json'...\n",
      "Writing 'bidsdataset\\dataset_description.json'...\n",
      "Writing 'bidsdataset\\sub-010020\\ses-01\\eeg\\sub-010020_ses-01_task-EC_eeg.json'...\n",
      "Found no extension for raw file, assuming \"BTi\" format and appending extension .pdf\n",
      "Writing 'bidsdataset\\sub-010020\\ses-01\\eeg\\sub-010020_ses-01_task-EC_channels.tsv'...\n",
      "Copying data files to sub-010020_ses-01_task-EC_eeg.vhdr\n",
      "Writing 'bidsdataset\\sub-010020\\ses-01\\sub-010020_ses-01_scans.tsv'...\n",
      "Wrote bidsdataset\\sub-010020\\ses-01\\sub-010020_ses-01_scans.tsv entry with eeg\\sub-010020_ses-01_task-EC_eeg.vhdr.\n"
     ]
    },
    {
     "name": "stderr",
     "output_type": "stream",
     "text": [
      "C:\\Users\\victor.ferat\\AppData\\Local\\Temp\\ipykernel_500\\3743410219.py:19: RuntimeWarning: No events found or provided. Please add annotations to the raw data, or provide the events and event_id parameters. For resting state data, BIDS recommends naming the task using labels beginning with \"rest\".\n",
      "  write_raw_bids(raw, bids_path=bids_path, allow_preload=True, format=\"BrainVision\", overwrite=True)\n",
      "C:\\Users\\victor.ferat\\AppData\\Local\\Temp\\ipykernel_500\\3743410219.py:19: RuntimeWarning: Converting data files to BrainVision format\n",
      "  write_raw_bids(raw, bids_path=bids_path, allow_preload=True, format=\"BrainVision\", overwrite=True)\n",
      "C:\\Users\\victor.ferat\\AppData\\Local\\Temp\\ipykernel_500\\3743410219.py:19: RuntimeWarning: Encountered data in \"double\" format. Converting to float32.\n",
      "  write_raw_bids(raw, bids_path=bids_path, allow_preload=True, format=\"BrainVision\", overwrite=True)\n",
      "Downloading file 'sub-010021_EC.set' from 'https://ftp.gwdg.de/pub/misc/MPI-Leipzig_Mind-Brain-Body-LEMON/EEG_MPILMBB_LEMON/EEG_Preprocessed_BIDS_ID/EEG_Preprocessed/sub-010021_EC.set' to 'C:\\Users\\victor.ferat\\pycrostates_data\\PREPROCESSED_LEMON'.\n",
      "Downloading file 'sub-010021_EC.fdt' from 'https://ftp.gwdg.de/pub/misc/MPI-Leipzig_Mind-Brain-Body-LEMON/EEG_MPILMBB_LEMON/EEG_Preprocessed_BIDS_ID/EEG_Preprocessed/sub-010021_EC.fdt' to 'C:\\Users\\victor.ferat\\pycrostates_data\\PREPROCESSED_LEMON'.\n"
     ]
    },
    {
     "name": "stdout",
     "output_type": "stream",
     "text": [
      "Reading C:\\Users\\victor.ferat\\pycrostates_data\\PREPROCESSED_LEMON\\sub-010021_EC.fdt\n",
      "Reading 0 ... 114594  =      0.000 ...   458.376 secs...\n",
      "EEG channel type selected for re-referencing\n",
      "Applying average reference.\n",
      "Applying a custom ('EEG',) reference.\n"
     ]
    },
    {
     "name": "stderr",
     "output_type": "stream",
     "text": [
      "C:\\Users\\victor.ferat\\AppData\\Local\\Temp\\ipykernel_500\\3743410219.py:12: RuntimeWarning: Limited 1 annotation(s) that were expanding outside the data range.\n",
      "  raw = read_raw_eeglab(raw_fname, preload=True)\n",
      "C:\\Users\\victor.ferat\\AppData\\Local\\Temp\\ipykernel_500\\3743410219.py:12: RuntimeWarning: The data contains 'boundary' events, indicating data discontinuities. Be cautious of filtering and epoching around these events.\n",
      "  raw = read_raw_eeglab(raw_fname, preload=True)\n",
      "C:\\Users\\victor.ferat\\AppData\\Local\\miniconda3\\envs\\report\\lib\\site-packages\\pycrostates\\datasets\\lemon\\lemon.py:135: RuntimeWarning: The locations of multiple reference channels are ignored.\n",
      "  raw.add_reference_channels(\"FCz\")\n",
      "C:\\Users\\victor.ferat\\AppData\\Local\\miniconda3\\envs\\report\\lib\\site-packages\\pycrostates\\datasets\\lemon\\lemon.py:138: RuntimeWarning: No bad channels to interpolate. Doing nothing...\n",
      "  raw.interpolate_bads()\n"
     ]
    },
    {
     "name": "stdout",
     "output_type": "stream",
     "text": [
      "Writing 'bidsdataset\\participants.tsv'...\n",
      "Writing 'bidsdataset\\participants.json'...\n",
      "Writing 'bidsdataset/sub-010021/ses-01/eeg/sub-010021_ses-01_space-CapTrak_electrodes.tsv'...\n",
      "Writing 'bidsdataset/sub-010021/ses-01/eeg/sub-010021_ses-01_space-CapTrak_coordsystem.json'...\n",
      "The provided raw data contains annotations, but you did not pass an \"event_id\" mapping from annotation descriptions to event codes. We will generate arbitrary event codes. To specify custom event codes, please pass \"event_id\".\n",
      "Used Annotations descriptions: ['32766', '4', '5', 'boundary']\n",
      "Writing 'bidsdataset\\sub-010021\\ses-01\\eeg\\sub-010021_ses-01_task-EC_events.tsv'...\n",
      "Writing 'bidsdataset\\dataset_description.json'...\n",
      "Writing 'bidsdataset\\sub-010021\\ses-01\\eeg\\sub-010021_ses-01_task-EC_eeg.json'...\n",
      "Writing 'bidsdataset\\sub-010021\\ses-01\\eeg\\sub-010021_ses-01_task-EC_channels.tsv'...\n",
      "Copying data files to sub-010021_ses-01_task-EC_eeg.vhdr\n",
      "Writing 'bidsdataset\\sub-010021\\ses-01\\sub-010021_ses-01_scans.tsv'...\n",
      "Wrote bidsdataset\\sub-010021\\ses-01\\sub-010021_ses-01_scans.tsv entry with eeg\\sub-010021_ses-01_task-EC_eeg.vhdr.\n"
     ]
    },
    {
     "name": "stderr",
     "output_type": "stream",
     "text": [
      "C:\\Users\\victor.ferat\\AppData\\Local\\Temp\\ipykernel_500\\3743410219.py:19: RuntimeWarning: Converting data files to BrainVision format\n",
      "  write_raw_bids(raw, bids_path=bids_path, allow_preload=True, format=\"BrainVision\", overwrite=True)\n",
      "C:\\Users\\victor.ferat\\AppData\\Local\\Temp\\ipykernel_500\\3743410219.py:19: RuntimeWarning: Encountered data in \"double\" format. Converting to float32.\n",
      "  write_raw_bids(raw, bids_path=bids_path, allow_preload=True, format=\"BrainVision\", overwrite=True)\n",
      "Downloading file 'sub-010022_EC.set' from 'https://ftp.gwdg.de/pub/misc/MPI-Leipzig_Mind-Brain-Body-LEMON/EEG_MPILMBB_LEMON/EEG_Preprocessed_BIDS_ID/EEG_Preprocessed/sub-010022_EC.set' to 'C:\\Users\\victor.ferat\\pycrostates_data\\PREPROCESSED_LEMON'.\n",
      "Downloading file 'sub-010022_EC.fdt' from 'https://ftp.gwdg.de/pub/misc/MPI-Leipzig_Mind-Brain-Body-LEMON/EEG_MPILMBB_LEMON/EEG_Preprocessed_BIDS_ID/EEG_Preprocessed/sub-010022_EC.fdt' to 'C:\\Users\\victor.ferat\\pycrostates_data\\PREPROCESSED_LEMON'.\n"
     ]
    },
    {
     "name": "stdout",
     "output_type": "stream",
     "text": [
      "Reading C:\\Users\\victor.ferat\\pycrostates_data\\PREPROCESSED_LEMON\\sub-010022_EC.fdt\n",
      "Reading 0 ... 119418  =      0.000 ...   477.672 secs...\n",
      "EEG channel type selected for re-referencing\n",
      "Applying average reference.\n",
      "Applying a custom ('EEG',) reference.\n"
     ]
    },
    {
     "name": "stderr",
     "output_type": "stream",
     "text": [
      "C:\\Users\\victor.ferat\\AppData\\Local\\Temp\\ipykernel_500\\3743410219.py:12: RuntimeWarning: Limited 1 annotation(s) that were expanding outside the data range.\n",
      "  raw = read_raw_eeglab(raw_fname, preload=True)\n",
      "C:\\Users\\victor.ferat\\AppData\\Local\\Temp\\ipykernel_500\\3743410219.py:12: RuntimeWarning: The data contains 'boundary' events, indicating data discontinuities. Be cautious of filtering and epoching around these events.\n",
      "  raw = read_raw_eeglab(raw_fname, preload=True)\n",
      "C:\\Users\\victor.ferat\\AppData\\Local\\miniconda3\\envs\\report\\lib\\site-packages\\pycrostates\\datasets\\lemon\\lemon.py:135: RuntimeWarning: The locations of multiple reference channels are ignored.\n",
      "  raw.add_reference_channels(\"FCz\")\n",
      "C:\\Users\\victor.ferat\\AppData\\Local\\miniconda3\\envs\\report\\lib\\site-packages\\pycrostates\\datasets\\lemon\\lemon.py:138: RuntimeWarning: No bad channels to interpolate. Doing nothing...\n",
      "  raw.interpolate_bads()\n"
     ]
    },
    {
     "name": "stdout",
     "output_type": "stream",
     "text": [
      "Writing 'bidsdataset\\participants.tsv'...\n",
      "Writing 'bidsdataset\\participants.json'...\n",
      "Writing 'bidsdataset/sub-010022/ses-01/eeg/sub-010022_ses-01_space-CapTrak_electrodes.tsv'...\n",
      "Writing 'bidsdataset/sub-010022/ses-01/eeg/sub-010022_ses-01_space-CapTrak_coordsystem.json'...\n",
      "The provided raw data contains annotations, but you did not pass an \"event_id\" mapping from annotation descriptions to event codes. We will generate arbitrary event codes. To specify custom event codes, please pass \"event_id\".\n",
      "Used Annotations descriptions: ['32766', '4', '5', 'boundary']\n",
      "Writing 'bidsdataset\\sub-010022\\ses-01\\eeg\\sub-010022_ses-01_task-EC_events.tsv'...\n",
      "Writing 'bidsdataset\\dataset_description.json'...\n",
      "Writing 'bidsdataset\\sub-010022\\ses-01\\eeg\\sub-010022_ses-01_task-EC_eeg.json'...\n",
      "Writing 'bidsdataset\\sub-010022\\ses-01\\eeg\\sub-010022_ses-01_task-EC_channels.tsv'...\n",
      "Copying data files to sub-010022_ses-01_task-EC_eeg.vhdr\n",
      "Writing 'bidsdataset\\sub-010022\\ses-01\\sub-010022_ses-01_scans.tsv'...\n",
      "Wrote bidsdataset\\sub-010022\\ses-01\\sub-010022_ses-01_scans.tsv entry with eeg\\sub-010022_ses-01_task-EC_eeg.vhdr.\n"
     ]
    },
    {
     "name": "stderr",
     "output_type": "stream",
     "text": [
      "C:\\Users\\victor.ferat\\AppData\\Local\\Temp\\ipykernel_500\\3743410219.py:19: RuntimeWarning: Converting data files to BrainVision format\n",
      "  write_raw_bids(raw, bids_path=bids_path, allow_preload=True, format=\"BrainVision\", overwrite=True)\n",
      "C:\\Users\\victor.ferat\\AppData\\Local\\Temp\\ipykernel_500\\3743410219.py:19: RuntimeWarning: Encountered data in \"double\" format. Converting to float32.\n",
      "  write_raw_bids(raw, bids_path=bids_path, allow_preload=True, format=\"BrainVision\", overwrite=True)\n",
      "Downloading file 'sub-010023_EC.set' from 'https://ftp.gwdg.de/pub/misc/MPI-Leipzig_Mind-Brain-Body-LEMON/EEG_MPILMBB_LEMON/EEG_Preprocessed_BIDS_ID/EEG_Preprocessed/sub-010023_EC.set' to 'C:\\Users\\victor.ferat\\pycrostates_data\\PREPROCESSED_LEMON'.\n",
      "Downloading file 'sub-010023_EC.fdt' from 'https://ftp.gwdg.de/pub/misc/MPI-Leipzig_Mind-Brain-Body-LEMON/EEG_MPILMBB_LEMON/EEG_Preprocessed_BIDS_ID/EEG_Preprocessed/sub-010023_EC.fdt' to 'C:\\Users\\victor.ferat\\pycrostates_data\\PREPROCESSED_LEMON'.\n"
     ]
    },
    {
     "name": "stdout",
     "output_type": "stream",
     "text": [
      "Reading C:\\Users\\victor.ferat\\pycrostates_data\\PREPROCESSED_LEMON\\sub-010023_EC.fdt\n",
      "Reading 0 ... 119999  =      0.000 ...   479.996 secs...\n",
      "EEG channel type selected for re-referencing\n",
      "Applying average reference.\n",
      "Applying a custom ('EEG',) reference.\n"
     ]
    },
    {
     "name": "stderr",
     "output_type": "stream",
     "text": [
      "C:\\Users\\victor.ferat\\AppData\\Local\\Temp\\ipykernel_500\\3743410219.py:12: RuntimeWarning: Limited 1 annotation(s) that were expanding outside the data range.\n",
      "  raw = read_raw_eeglab(raw_fname, preload=True)\n",
      "C:\\Users\\victor.ferat\\AppData\\Local\\Temp\\ipykernel_500\\3743410219.py:12: RuntimeWarning: The data contains 'boundary' events, indicating data discontinuities. Be cautious of filtering and epoching around these events.\n",
      "  raw = read_raw_eeglab(raw_fname, preload=True)\n",
      "C:\\Users\\victor.ferat\\AppData\\Local\\miniconda3\\envs\\report\\lib\\site-packages\\pycrostates\\datasets\\lemon\\lemon.py:135: RuntimeWarning: The locations of multiple reference channels are ignored.\n",
      "  raw.add_reference_channels(\"FCz\")\n",
      "C:\\Users\\victor.ferat\\AppData\\Local\\miniconda3\\envs\\report\\lib\\site-packages\\pycrostates\\datasets\\lemon\\lemon.py:138: RuntimeWarning: No bad channels to interpolate. Doing nothing...\n",
      "  raw.interpolate_bads()\n"
     ]
    },
    {
     "name": "stdout",
     "output_type": "stream",
     "text": [
      "Writing 'bidsdataset\\participants.tsv'...\n",
      "Writing 'bidsdataset\\participants.json'...\n",
      "Writing 'bidsdataset/sub-010023/ses-01/eeg/sub-010023_ses-01_space-CapTrak_electrodes.tsv'...\n",
      "Writing 'bidsdataset/sub-010023/ses-01/eeg/sub-010023_ses-01_space-CapTrak_coordsystem.json'...\n",
      "The provided raw data contains annotations, but you did not pass an \"event_id\" mapping from annotation descriptions to event codes. We will generate arbitrary event codes. To specify custom event codes, please pass \"event_id\".\n",
      "Used Annotations descriptions: ['32766', '4', '5', 'boundary']\n",
      "Writing 'bidsdataset\\sub-010023\\ses-01\\eeg\\sub-010023_ses-01_task-EC_events.tsv'...\n",
      "Writing 'bidsdataset\\dataset_description.json'...\n",
      "Writing 'bidsdataset\\sub-010023\\ses-01\\eeg\\sub-010023_ses-01_task-EC_eeg.json'...\n",
      "Writing 'bidsdataset\\sub-010023\\ses-01\\eeg\\sub-010023_ses-01_task-EC_channels.tsv'...\n",
      "Copying data files to sub-010023_ses-01_task-EC_eeg.vhdr\n",
      "Writing 'bidsdataset\\sub-010023\\ses-01\\sub-010023_ses-01_scans.tsv'...\n",
      "Wrote bidsdataset\\sub-010023\\ses-01\\sub-010023_ses-01_scans.tsv entry with eeg\\sub-010023_ses-01_task-EC_eeg.vhdr.\n"
     ]
    },
    {
     "name": "stderr",
     "output_type": "stream",
     "text": [
      "C:\\Users\\victor.ferat\\AppData\\Local\\Temp\\ipykernel_500\\3743410219.py:19: RuntimeWarning: Converting data files to BrainVision format\n",
      "  write_raw_bids(raw, bids_path=bids_path, allow_preload=True, format=\"BrainVision\", overwrite=True)\n",
      "C:\\Users\\victor.ferat\\AppData\\Local\\Temp\\ipykernel_500\\3743410219.py:19: RuntimeWarning: Encountered data in \"double\" format. Converting to float32.\n",
      "  write_raw_bids(raw, bids_path=bids_path, allow_preload=True, format=\"BrainVision\", overwrite=True)\n",
      "Downloading file 'sub-010024_EC.set' from 'https://ftp.gwdg.de/pub/misc/MPI-Leipzig_Mind-Brain-Body-LEMON/EEG_MPILMBB_LEMON/EEG_Preprocessed_BIDS_ID/EEG_Preprocessed/sub-010024_EC.set' to 'C:\\Users\\victor.ferat\\pycrostates_data\\PREPROCESSED_LEMON'.\n",
      "Downloading file 'sub-010024_EC.fdt' from 'https://ftp.gwdg.de/pub/misc/MPI-Leipzig_Mind-Brain-Body-LEMON/EEG_MPILMBB_LEMON/EEG_Preprocessed_BIDS_ID/EEG_Preprocessed/sub-010024_EC.fdt' to 'C:\\Users\\victor.ferat\\pycrostates_data\\PREPROCESSED_LEMON'.\n"
     ]
    },
    {
     "name": "stdout",
     "output_type": "stream",
     "text": [
      "Reading C:\\Users\\victor.ferat\\pycrostates_data\\PREPROCESSED_LEMON\\sub-010024_EC.fdt\n",
      "Reading 0 ... 116677  =      0.000 ...   466.708 secs...\n",
      "EEG channel type selected for re-referencing\n",
      "Applying average reference.\n",
      "Applying a custom ('EEG',) reference.\n"
     ]
    },
    {
     "name": "stderr",
     "output_type": "stream",
     "text": [
      "C:\\Users\\victor.ferat\\AppData\\Local\\Temp\\ipykernel_500\\3743410219.py:12: RuntimeWarning: Limited 1 annotation(s) that were expanding outside the data range.\n",
      "  raw = read_raw_eeglab(raw_fname, preload=True)\n",
      "C:\\Users\\victor.ferat\\AppData\\Local\\Temp\\ipykernel_500\\3743410219.py:12: RuntimeWarning: The data contains 'boundary' events, indicating data discontinuities. Be cautious of filtering and epoching around these events.\n",
      "  raw = read_raw_eeglab(raw_fname, preload=True)\n",
      "C:\\Users\\victor.ferat\\AppData\\Local\\miniconda3\\envs\\report\\lib\\site-packages\\pycrostates\\datasets\\lemon\\lemon.py:135: RuntimeWarning: The locations of multiple reference channels are ignored.\n",
      "  raw.add_reference_channels(\"FCz\")\n",
      "C:\\Users\\victor.ferat\\AppData\\Local\\miniconda3\\envs\\report\\lib\\site-packages\\pycrostates\\datasets\\lemon\\lemon.py:138: RuntimeWarning: No bad channels to interpolate. Doing nothing...\n",
      "  raw.interpolate_bads()\n"
     ]
    },
    {
     "name": "stdout",
     "output_type": "stream",
     "text": [
      "Writing 'bidsdataset\\participants.tsv'...\n",
      "Writing 'bidsdataset\\participants.json'...\n",
      "Writing 'bidsdataset/sub-010024/ses-01/eeg/sub-010024_ses-01_space-CapTrak_electrodes.tsv'...\n",
      "Writing 'bidsdataset/sub-010024/ses-01/eeg/sub-010024_ses-01_space-CapTrak_coordsystem.json'...\n",
      "The provided raw data contains annotations, but you did not pass an \"event_id\" mapping from annotation descriptions to event codes. We will generate arbitrary event codes. To specify custom event codes, please pass \"event_id\".\n",
      "Used Annotations descriptions: ['32766', '4', '5', 'boundary']\n",
      "Writing 'bidsdataset\\sub-010024\\ses-01\\eeg\\sub-010024_ses-01_task-EC_events.tsv'...\n",
      "Writing 'bidsdataset\\dataset_description.json'...\n",
      "Writing 'bidsdataset\\sub-010024\\ses-01\\eeg\\sub-010024_ses-01_task-EC_eeg.json'...\n",
      "Writing 'bidsdataset\\sub-010024\\ses-01\\eeg\\sub-010024_ses-01_task-EC_channels.tsv'...\n",
      "Copying data files to sub-010024_ses-01_task-EC_eeg.vhdr\n",
      "Writing 'bidsdataset\\sub-010024\\ses-01\\sub-010024_ses-01_scans.tsv'...\n",
      "Wrote bidsdataset\\sub-010024\\ses-01\\sub-010024_ses-01_scans.tsv entry with eeg\\sub-010024_ses-01_task-EC_eeg.vhdr.\n"
     ]
    },
    {
     "name": "stderr",
     "output_type": "stream",
     "text": [
      "C:\\Users\\victor.ferat\\AppData\\Local\\Temp\\ipykernel_500\\3743410219.py:19: RuntimeWarning: Converting data files to BrainVision format\n",
      "  write_raw_bids(raw, bids_path=bids_path, allow_preload=True, format=\"BrainVision\", overwrite=True)\n",
      "C:\\Users\\victor.ferat\\AppData\\Local\\Temp\\ipykernel_500\\3743410219.py:19: RuntimeWarning: Encountered data in \"double\" format. Converting to float32.\n",
      "  write_raw_bids(raw, bids_path=bids_path, allow_preload=True, format=\"BrainVision\", overwrite=True)\n"
     ]
    }
   ],
   "source": [
    "import mne\n",
    "from mne_bids import BIDSPath, write_raw_bids\n",
    "from pycrostates.datasets import lemon\n",
    "from mne.io import read_raw_eeglab\n",
    "\n",
    "conditions = [\"EO\", \"EC\"]\n",
    "subject_ids = [\"010020\", \"010021\", \"010022\", \"010023\", \"010024\"]\n",
    "for condition in conditions:\n",
    "    for subject_id in subject_ids:\n",
    "        # load Data\n",
    "        raw_fname = lemon.data_path(subject_id=subject_id, condition=condition)\n",
    "        raw = read_raw_eeglab(raw_fname, preload=True)\n",
    "        raw = lemon.standardize(raw)\n",
    "        raw.crop(0, 180)  # crop the dataset to speed up computation\n",
    "        raw.Annoations = None\n",
    "        raw.load_data()\n",
    "        bids_path = BIDSPath(subject=subject_id, session='01', task=condition,\n",
    "                             datatype='eeg', root='./bidsdataset')\n",
    "        write_raw_bids(raw, bids_path=bids_path, allow_preload=True, format=\"BrainVision\", overwrite=True)"
   ]
  },
  {
   "cell_type": "code",
   "execution_count": null,
   "id": "5b9b0ea2",
   "metadata": {},
   "outputs": [],
   "source": []
  }
 ],
 "metadata": {
  "kernelspec": {
   "display_name": "Python [conda env:report]",
   "language": "python",
   "name": "conda-env-report-py"
  },
  "language_info": {
   "codemirror_mode": {
    "name": "ipython",
    "version": 3
   },
   "file_extension": ".py",
   "mimetype": "text/x-python",
   "name": "python",
   "nbconvert_exporter": "python",
   "pygments_lexer": "ipython3",
   "version": "3.10.11"
  }
 },
 "nbformat": 4,
 "nbformat_minor": 5
}
