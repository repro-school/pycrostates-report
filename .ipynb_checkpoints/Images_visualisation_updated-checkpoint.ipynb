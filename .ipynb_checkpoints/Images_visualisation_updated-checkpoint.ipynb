{
 "cells": [
  {
   "cell_type": "code",
   "execution_count": 1,
   "id": "75beec99",
   "metadata": {},
   "outputs": [],
   "source": [
    "import matplotlib.pyplot as plt\n",
    "import numpy as np\n",
    "from mne import set_log_level\n",
    "from mne.io import read_raw_eeglab\n",
    "\n",
    "from pycrostates.cluster import ModKMeans\n",
    "from pycrostates.datasets import lemon\n",
    "\n"
   ]
  },
  {
   "cell_type": "code",
   "execution_count": null,
   "id": "329a0a4d",
   "metadata": {},
   "outputs": [],
   "source": [
    "#STEP 1 - GEV PER K AND HOVER OVER IMAGES FOR EACH\n",
    "\n",
    "set_log_level(\"ERROR\")  # reduce verbosity\n",
    "\n",
    "raw_fname = lemon.data_path(subject_id=\"010017\", condition=\"EO\")\n",
    "raw = read_raw_eeglab(raw_fname, preload=True)\n",
    "raw.crop(0, 180)\n",
    "raw.pick(\"eeg\")\n",
    "raw.set_eeg_reference(\"average\")\n",
    "\n",
    "from pycrostates.preprocessing import extract_gfp_peaks\n",
    "\n",
    "cluster_numbers = [2, 3, 4, 5, 6, 8, 10, 12, 15, 20]\n",
    "\n",
    "gfp_peaks = extract_gfp_peaks(raw)\n",
    "\n",
    "gevs = []\n",
    "image_files = []\n",
    "for k, n_clusters in enumerate(cluster_numbers):\n",
    "    # fit K-means algorithm with a set number of cluster centers\n",
    "    ModK = ModKMeans(n_clusters=n_clusters, random_state=42)\n",
    "    ModK.fit(gfp_peaks, n_jobs=6, verbose=\"WARNING\")\n",
    "    gevs.append(ModK.GEV_)\n",
    "    fig = ModK.plot(show=False)\n",
    "    image = f'cluster_centers_{k}.png'\n",
    "    fig.savefig(image)  # save the figure to file\n",
    "    plt.close(fig)\n",
    "    image_files.append(image)\n",
    "\n"
   ]
  },
  {
   "cell_type": "code",
   "execution_count": null,
   "id": "28ca12f5",
   "metadata": {},
   "outputs": [],
   "source": [
    "import base64\n",
    "from bokeh.io import output_file, push_notebook, show\n",
    "from bokeh.models import HoverTool\n",
    "from bokeh.plotting import figure, ColumnDataSource\n",
    "from bokeh.io import output_notebook\n",
    "from bokeh.layouts import row\n",
    "from bokeh.resources import INLINE\n",
    "\n",
    "# Prepare the data\n",
    "x = list(cluster_numbers)\n",
    "y = gevs\n",
    "\n",
    "# Load the images and encode them as base64 strings\n",
    "images = []\n",
    "for file in image_files:\n",
    "    with open(file, \"rb\") as f:\n",
    "        image_data = f.read()\n",
    "        encoded_image = base64.b64encode(image_data).decode(\"utf-8\")\n",
    "        images.append(f\"data:image/png;base64,{encoded_image}\")\n",
    "\n",
    "hover = HoverTool(\n",
    "    tooltips=\"\"\"\n",
    "    <div>\n",
    "        <div>\n",
    "            <img\n",
    "                src=\"@imgs\" alt=\"@imgs\"\n",
    "                style=\"float: left; margin: 0px 15px 15px 0px;\"\n",
    "                border=\"2\"\n",
    "            ></img>\n",
    "        </div>\n",
    "    </div>\n",
    "    \"\"\"\n",
    ")\n",
    "\n",
    "# Create a Bokeh ColumnDataSource\n",
    "source = ColumnDataSource(data=dict(x=x, y=y, imgs=images))\n",
    "\n",
    "# Create a scatter plot\n",
    "p = figure(\n",
    "    title=\"Scatter Plot with Overlaid Images\",\n",
    "    x_axis_label=\"X\",\n",
    "    y_axis_label=\"Y\",\n",
    "    tools=[hover],\n",
    ")\n",
    "p.scatter(x=\"x\", y=\"y\", size=10, color=\"red\", source=source)\n"
   ]
  },
  {
   "cell_type": "code",
   "execution_count": null,
   "id": "6d99559c",
   "metadata": {},
   "outputs": [],
   "source": [
    "output_file(\"scatter_plot.html\")"
   ]
  },
  {
   "cell_type": "code",
   "execution_count": null,
   "id": "a06eee1a",
   "metadata": {},
   "outputs": [],
   "source": [
    "output_notebook(resources=INLINE)  # Enable inline display of the plot\n",
    "handle = show(row(p), notebook_handle=True)  # Display the plot in a new tab\n",
    "\n",
    "# Update the plot whenever necessary (e.g., for zooming)\n",
    "push_notebook(handle=handle)"
   ]
  },
  {
   "cell_type": "code",
   "execution_count": null,
   "id": "87ab03b0",
   "metadata": {},
   "outputs": [],
   "source": []
  }
 ],
 "metadata": {
  "kernelspec": {
   "display_name": "Python 3 (ipykernel)",
   "language": "python",
   "name": "python3"
  },
  "language_info": {
   "codemirror_mode": {
    "name": "ipython",
    "version": 3
   },
   "file_extension": ".py",
   "mimetype": "text/x-python",
   "name": "python",
   "nbconvert_exporter": "python",
   "pygments_lexer": "ipython3",
   "version": "3.9.12"
  }
 },
 "nbformat": 4,
 "nbformat_minor": 5
}
