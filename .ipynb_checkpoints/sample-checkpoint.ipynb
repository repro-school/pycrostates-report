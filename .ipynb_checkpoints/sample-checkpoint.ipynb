{
 "cells": [
  {
   "cell_type": "code",
   "execution_count": 1,
   "metadata": {},
   "outputs": [
    {
     "name": "stderr",
     "output_type": "stream",
     "text": [
      "Downloading file 'sub-010017_EO.set' from 'https://ftp.gwdg.de/pub/misc/MPI-Leipzig_Mind-Brain-Body-LEMON/EEG_MPILMBB_LEMON/EEG_Preprocessed_BIDS_ID/EEG_Preprocessed/sub-010017_EO.set' to '/Users/saraakhavan/pycrostates_data/PREPROCESSED_LEMON'.\n",
      "Downloading file 'sub-010017_EO.fdt' from 'https://ftp.gwdg.de/pub/misc/MPI-Leipzig_Mind-Brain-Body-LEMON/EEG_MPILMBB_LEMON/EEG_Preprocessed_BIDS_ID/EEG_Preprocessed/sub-010017_EO.fdt' to '/Users/saraakhavan/pycrostates_data/PREPROCESSED_LEMON'.\n"
     ]
    },
    {
     "name": "stdout",
     "output_type": "stream",
     "text": [
      "Reading /Users/saraakhavan/pycrostates_data/PREPROCESSED_LEMON/sub-010017_EO.fdt\n",
      "Reading 0 ... 118769  =      0.000 ...   475.076 secs...\n",
      "EEG channel type selected for re-referencing\n",
      "Applying average reference.\n",
      "Applying a custom ('EEG',) reference.\n"
     ]
    },
    {
     "name": "stderr",
     "output_type": "stream",
     "text": [
      "/var/folders/r5/t160422n5jq0_rb1lb0gt0340000gn/T/ipykernel_73077/1284174355.py:9: RuntimeWarning: Limited 1 annotation(s) that were expanding outside the data range.\n",
      "  raw = read_raw_eeglab(raw_fname, preload=True)\n",
      "/var/folders/r5/t160422n5jq0_rb1lb0gt0340000gn/T/ipykernel_73077/1284174355.py:9: RuntimeWarning: The data contains 'boundary' events, indicating data discontinuities. Be cautious of filtering and epoching around these events.\n",
      "  raw = read_raw_eeglab(raw_fname, preload=True)\n"
     ]
    },
    {
     "data": {
      "text/html": [
       "<table class=\"table table-hover table-striped table-sm table-responsive small\">\n",
       "    <tr>\n",
       "        <th>Measurement date</th>\n",
       "        \n",
       "        <td>Unknown</td>\n",
       "        \n",
       "    </tr>\n",
       "    <tr>\n",
       "        <th>Experimenter</th>\n",
       "        \n",
       "        <td>Unknown</td>\n",
       "        \n",
       "    </tr>\n",
       "        <th>Participant</th>\n",
       "        \n",
       "        <td>Unknown</td>\n",
       "        \n",
       "    </tr>\n",
       "    <tr>\n",
       "        <th>Digitized points</th>\n",
       "        \n",
       "        <td>64 points</td>\n",
       "        \n",
       "    </tr>\n",
       "    <tr>\n",
       "        <th>Good channels</th>\n",
       "        <td>61 EEG</td>\n",
       "    </tr>\n",
       "    <tr>\n",
       "        <th>Bad channels</th>\n",
       "        <td>None</td>\n",
       "    </tr>\n",
       "    <tr>\n",
       "        <th>EOG channels</th>\n",
       "        <td>Not available</td>\n",
       "    </tr>\n",
       "    <tr>\n",
       "        <th>ECG channels</th>\n",
       "        <td>Not available</td>\n",
       "    \n",
       "    <tr>\n",
       "        <th>Sampling frequency</th>\n",
       "        <td>250.00 Hz</td>\n",
       "    </tr>\n",
       "    \n",
       "    \n",
       "    <tr>\n",
       "        <th>Highpass</th>\n",
       "        <td>0.00 Hz</td>\n",
       "    </tr>\n",
       "    \n",
       "    \n",
       "    <tr>\n",
       "        <th>Lowpass</th>\n",
       "        <td>125.00 Hz</td>\n",
       "    </tr>\n",
       "    \n",
       "    \n",
       "    \n",
       "    <tr>\n",
       "        <th>Filenames</th>\n",
       "        <td>sub-010017_EO.fdt</td>\n",
       "    </tr>\n",
       "    \n",
       "    <tr>\n",
       "        <th>Duration</th>\n",
       "        <td>00:03:00 (HH:MM:SS)</td>\n",
       "    </tr>\n",
       "</table>"
      ],
      "text/plain": [
       "<RawEEGLAB | sub-010017_EO.fdt, 61 x 45001 (180.0 s), ~21.0 MB, data loaded>"
      ]
     },
     "execution_count": 1,
     "metadata": {},
     "output_type": "execute_result"
    }
   ],
   "source": [
    "import numpy as np\n",
    "from mne.io import read_raw_eeglab\n",
    "\n",
    "from pycrostates.cluster import ModKMeans\n",
    "from pycrostates.datasets import lemon\n",
    "\n",
    "\n",
    "raw_fname = lemon.data_path(subject_id=\"010017\", condition=\"EO\")\n",
    "raw = read_raw_eeglab(raw_fname, preload=True)\n",
    "raw.crop(0, 180)\n",
    "raw.pick(\"eeg\")\n",
    "raw.set_eeg_reference(\"average\")"
   ]
  },
  {
   "cell_type": "code",
   "execution_count": 2,
   "metadata": {},
   "outputs": [],
   "source": [
    "from pycrostates.preprocessing import extract_gfp_peaks\n",
    "\n",
    "cluster_numbers = range(2, 9)\n",
    "scores = {\n",
    "    \"Silhouette\": np.zeros(len(cluster_numbers)),\n",
    "    \"Calinski-Harabasaz\": np.zeros(len(cluster_numbers)),\n",
    "    \"Dunn\": np.zeros(len(cluster_numbers)),\n",
    "    \"Davies-Bouldin\": np.zeros(len(cluster_numbers)),\n",
    "}\n",
    "gfp_peaks = extract_gfp_peaks(raw)\n",
    "\n",
    "ModK_list = []\n",
    "for k, n_clusters in enumerate(cluster_numbers):\n",
    "    # fit K-means algorithm with a set number of cluster centers\n",
    "    ModK = ModKMeans(n_clusters=n_clusters, random_state=42)\n",
    "    ModK.fit(gfp_peaks, n_jobs=4)\n",
    "    ModK_list.append(ModK)\n"
   ]
  },
  {
   "cell_type": "code",
   "execution_count": null,
   "metadata": {},
   "outputs": [],
   "source": []
  }
 ],
 "metadata": {
  "kernelspec": {
   "display_name": "Python 3 (ipykernel)",
   "language": "python",
   "name": "python3"
  },
  "language_info": {
   "codemirror_mode": {
    "name": "ipython",
    "version": 3
   },
   "file_extension": ".py",
   "mimetype": "text/x-python",
   "name": "python",
   "nbconvert_exporter": "python",
   "pygments_lexer": "ipython3",
   "version": "3.9.12"
  }
 },
 "nbformat": 4,
 "nbformat_minor": 2
}
