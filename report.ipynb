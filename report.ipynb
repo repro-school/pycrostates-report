{
 "cells": [
  {
   "cell_type": "code",
   "execution_count": 4,
   "metadata": {},
   "outputs": [
    {
     "data": {
      "text/plain": [
       "'<!DOCTYPE html>\\n<html>\\n<head>\\n    <title>My Webpage</title>\\n    <style>\\n        /* CSS styles for the navbar */\\n        .navbar {\\n            background-color: #333;\\n            color: #fff;\\n            padding: 10px;\\n        }\\n        \\n        .navbar a {\\n            color: #fff;\\n            text-decoration: none;\\n            margin-right: 10px;\\n        }\\n        \\n        .section {\\n            margin: 20px;\\n        }\\n    </style>\\n</head>\\n<body>\\n    <div class=\"navbar\">\\n        <a href=\"#gev\">GEV</a>\\n        <a href=\"#embedding\">EMBEDDING</a>\\n        <a href=\"#correlation\">CORRELATION</a>\\n        <a href=\"#method\">METHOD</a>\\n    </div>\\n    \\n    <div id=\"gev\" class=\"section\">\\n        <h2>GEV Section</h2>\\n        <!-- Content for the GEV section -->\\n    </div>\\n    \\n    <div id=\"embedding\" class=\"section\">\\n        <h2>Embedding Section</h2>\\n        <!-- Content for the Embedding section -->\\n    </div>\\n    \\n    <div id=\"correlation\" class=\"section\">\\n        <h2>Correlation Section</h2>\\n        <!-- Content for the Correlation section -->\\n    </div>\\n    \\n    <div id=\"method\" class=\"section\">\\n        <h2>Method Section</h2>\\n        <!-- Content for the Method section -->\\n    </div>\\n</body>\\n</html>'"
      ]
     },
     "execution_count": 4,
     "metadata": {},
     "output_type": "execute_result"
    }
   ],
   "source": [
    "from pycrostates_report.report import render_report\n",
    "report = render_report()\n",
    "report\n"
   ]
  },
  {
   "cell_type": "code",
   "execution_count": 5,
   "metadata": {},
   "outputs": [
    {
     "name": "stderr",
     "output_type": "stream",
     "text": [
      "C:\\Users\\victor.ferat\\AppData\\Local\\Temp\\ipykernel_6424\\2406743908.py:1: DeprecationWarning: Importing display from IPython.core.display is deprecated since IPython 7.14, please import from IPython display\n",
      "  from IPython.core.display import display, HTML\n"
     ]
    },
    {
     "data": {
      "text/html": [
       "<!DOCTYPE html>\n",
       "<html>\n",
       "<head>\n",
       "    <title>My Webpage</title>\n",
       "    <style>\n",
       "        /* CSS styles for the navbar */\n",
       "        .navbar {\n",
       "            background-color: #333;\n",
       "            color: #fff;\n",
       "            padding: 10px;\n",
       "        }\n",
       "        \n",
       "        .navbar a {\n",
       "            color: #fff;\n",
       "            text-decoration: none;\n",
       "            margin-right: 10px;\n",
       "        }\n",
       "        \n",
       "        .section {\n",
       "            margin: 20px;\n",
       "        }\n",
       "    </style>\n",
       "</head>\n",
       "<body>\n",
       "    <div class=\"navbar\">\n",
       "        <a href=\"#gev\">GEV</a>\n",
       "        <a href=\"#embedding\">EMBEDDING</a>\n",
       "        <a href=\"#correlation\">CORRELATION</a>\n",
       "        <a href=\"#method\">METHOD</a>\n",
       "    </div>\n",
       "    \n",
       "    <div id=\"gev\" class=\"section\">\n",
       "        <h2>GEV Section</h2>\n",
       "        <!-- Content for the GEV section -->\n",
       "    </div>\n",
       "    \n",
       "    <div id=\"embedding\" class=\"section\">\n",
       "        <h2>Embedding Section</h2>\n",
       "        <!-- Content for the Embedding section -->\n",
       "    </div>\n",
       "    \n",
       "    <div id=\"correlation\" class=\"section\">\n",
       "        <h2>Correlation Section</h2>\n",
       "        <!-- Content for the Correlation section -->\n",
       "    </div>\n",
       "    \n",
       "    <div id=\"method\" class=\"section\">\n",
       "        <h2>Method Section</h2>\n",
       "        <!-- Content for the Method section -->\n",
       "    </div>\n",
       "</body>\n",
       "</html>"
      ],
      "text/plain": [
       "<IPython.core.display.HTML object>"
      ]
     },
     "metadata": {},
     "output_type": "display_data"
    }
   ],
   "source": [
    "\n",
    "from IPython.core.display import display, HTML\n",
    "display(HTML(report))"
   ]
  },
  {
   "cell_type": "code",
   "execution_count": null,
   "metadata": {},
   "outputs": [],
   "source": []
  }
 ],
 "metadata": {
  "kernelspec": {
   "display_name": "report",
   "language": "python",
   "name": "python3"
  },
  "language_info": {
   "codemirror_mode": {
    "name": "ipython",
    "version": 3
   },
   "file_extension": ".py",
   "mimetype": "text/x-python",
   "name": "python",
   "nbconvert_exporter": "python",
   "pygments_lexer": "ipython3",
   "version": "3.10.11"
  },
  "orig_nbformat": 4
 },
 "nbformat": 4,
 "nbformat_minor": 2
}
